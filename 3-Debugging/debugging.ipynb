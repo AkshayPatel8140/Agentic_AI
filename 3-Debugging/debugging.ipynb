{
 "cells": [
  {
   "cell_type": "code",
   "execution_count": 1,
   "id": "c387e8fc",
   "metadata": {},
   "outputs": [
    {
     "data": {
      "text/plain": [
       "True"
      ]
     },
     "execution_count": 1,
     "metadata": {},
     "output_type": "execute_result"
    }
   ],
   "source": [
    "import os\n",
    "from dotenv import load_dotenv\n",
    "from typing import Annotated\n",
    "from typing_extensions import TypedDict\n",
    "from langgraph.graph import START, END\n",
    "from langgraph.graph.state import StateGraph\n",
    "from langgraph.graph.message import add_messages\n",
    "from langgraph.prebuilt import ToolNode, tools_condition\n",
    "from langchain.chat_models import init_chat_model\n",
    "from langchain_core.tools import tool\n",
    "from langchain_core.messages import BaseMessage\n",
    "load_dotenv()"
   ]
  },
  {
   "cell_type": "code",
   "execution_count": 2,
   "id": "89b31f30",
   "metadata": {},
   "outputs": [],
   "source": [
    "os.environ[\"GROQ_API_KEY\"] = os.getenv(\"GROQ_API_KEY\")\n",
    "os.environ[\"LANGSMITH_API_KEY\"] = os.getenv(\"LANGSMITH_API_KEY\")\n",
    "os.environ[\"LANGSMITH_TRACING\"] = 'true' # https://docs.smith.langchain.com/observability\n",
    "os.environ[\"LANGSMITH_PROJECT\"] = 'demoCrashCourse' # https://docs.smith.langchain.com -> setup Project"
   ]
  },
  {
   "cell_type": "code",
   "execution_count": 3,
   "id": "abb1d26b",
   "metadata": {},
   "outputs": [
    {
     "data": {
      "text/plain": [
       "ChatGroq(client=<groq.resources.chat.completions.Completions object at 0x10b55b440>, async_client=<groq.resources.chat.completions.AsyncCompletions object at 0x10b5820f0>, model_name='llama3-8b-8192', model_kwargs={}, groq_api_key=SecretStr('**********'))"
      ]
     },
     "execution_count": 3,
     "metadata": {},
     "output_type": "execute_result"
    }
   ],
   "source": [
    "# Initialize the model\n",
    "llm = init_chat_model(\"groq:llama3-8b-8192\")\n",
    "llm"
   ]
  },
  {
   "cell_type": "code",
   "execution_count": 4,
   "id": "75b6290a",
   "metadata": {},
   "outputs": [],
   "source": [
    "class State(TypedDict):\n",
    "    messages: Annotated[list[BaseMessage], add_messages]"
   ]
  },
  {
   "cell_type": "code",
   "execution_count": 5,
   "id": "c4828a63",
   "metadata": {},
   "outputs": [],
   "source": [
    "# Graph with tools\n",
    "@tool\n",
    "def add(a: float, b: float):\n",
    "    \"\"\"Add two numbers\"\"\"\n",
    "    return a + b\n",
    "\n",
    "\n",
    "@tool\n",
    "def explain(topic: str) -> str:\n",
    "    \"\"\"Explain a given topic in simple terms.\"\"\"\n",
    "    # You can use the LLM itself or a static response\n",
    "    return f\"{topic} is a broad concept in AI. (Add more details here.)\"\n",
    "\n",
    "\n",
    "tools = [add, explain]\n",
    "tool_node = ToolNode(tools=tools)\n",
    "llm_with_tool = llm.bind_tools(tools=tools)"
   ]
  },
  {
   "cell_type": "code",
   "execution_count": 6,
   "id": "163b7912",
   "metadata": {},
   "outputs": [
    {
     "data": {
      "image/png": "[encoded data removed]",
      "text/plain": [
       "<langgraph.graph.state.CompiledStateGraph object at 0x10b4ab110>"
      ]
     },
     "execution_count": 6,
     "metadata": {},
     "output_type": "execute_result"
    }
   ],
   "source": [
    "# Node Definition\n",
    "def call_llm_model(state: State):\n",
    "    return {\"messages\": [llm_with_tool.invoke(state[\"messages\"])]}\n",
    "\n",
    "\n",
    "# Graph\n",
    "builder = StateGraph(State)\n",
    "builder.add_node(\"llm_with_tool\", call_llm_model)\n",
    "builder.add_node(\"tools\", tool_node)\n",
    "\n",
    "# Add Edges\n",
    "builder.add_edge(START, \"llm_with_tool\")\n",
    "builder.add_conditional_edges(\"llm_with_tool\", tools_condition)\n",
    "builder.add_edge(\"tools\", \"llm_with_tool\")\n",
    "\n",
    "# compile the graph\n",
    "graph = builder.compile()\n",
    "graph"
   ]
  },
  {
   "cell_type": "code",
   "execution_count": 7,
   "id": "cf1c08da",
   "metadata": {},
   "outputs": [
    {
     "data": {
      "text/plain": [
       "{'messages': [HumanMessage(content='What is the machine learning?', additional_kwargs={}, response_metadata={}, id='b1339195-0ff0-494f-ac48-14ae67062bf3'),\n",
       "  AIMessage(content='', additional_kwargs={'tool_calls': [{'id': 'cm5vpdhmc', 'function': {'arguments': '{\"topic\":\"machine learning\"}', 'name': 'explain'}, 'type': 'function'}]}, response_metadata={'token_usage': {'completion_tokens': 66, 'prompt_tokens': 993, 'total_tokens': 1059, 'completion_time': 0.049375042, 'prompt_time': 0.110250863, 'queue_time': 0.0023242099999999932, 'total_time': 0.159625905}, 'model_name': 'llama3-8b-8192', 'system_fingerprint': 'fp_5b339000ab', 'service_tier': 'on_demand', 'finish_reason': 'tool_calls', 'logprobs': None}, id='run--7ccab052-1702-4807-991c-3aaafb00a86b-0', tool_calls=[{'name': 'explain', 'args': {'topic': 'machine learning'}, 'id': 'cm5vpdhmc', 'type': 'tool_call'}], usage_metadata={'input_tokens': 993, 'output_tokens': 66, 'total_tokens': 1059}),\n",
       "  ToolMessage(content='machine learning is a broad concept in AI. (Add more details here.)', name='explain', id='25f43823-1122-4d0e-ba66-728e6bf20616', tool_call_id='cm5vpdhmc'),\n",
       "  AIMessage(content='Machine learning is a subset of artificial intelligence that involves the use of algorithms and statistical models to enable machines to learn from data, make decisions, and improve their performance over time.', additional_kwargs={}, response_metadata={'token_usage': {'completion_tokens': 36, 'prompt_tokens': 1072, 'total_tokens': 1108, 'completion_time': 0.026947418, 'prompt_time': 0.118286155, 'queue_time': 0.0024804679999999996, 'total_time': 0.145233573}, 'model_name': 'llama3-8b-8192', 'system_fingerprint': 'fp_5b339000ab', 'service_tier': 'on_demand', 'finish_reason': 'stop', 'logprobs': None}, id='run--45d5d742-171e-4f32-a0a5-0239df6d5b9a-0', usage_metadata={'input_tokens': 1072, 'output_tokens': 36, 'total_tokens': 1108})]}"
      ]
     },
     "execution_count": 7,
     "metadata": {},
     "output_type": "execute_result"
    }
   ],
   "source": [
    "response = graph.invoke({\"messages\": \"What is the machine learning?\"})\n",
    "response"
   ]
  },
  {
   "cell_type": "code",
   "execution_count": 8,
   "id": "d28a9c94",
   "metadata": {},
   "outputs": [
    {
     "data": {
      "text/plain": [
       "{'messages': [HumanMessage(content='What is 2 plus 2?', additional_kwargs={}, response_metadata={}, id='16c11df8-1686-42ba-adc8-d1a79e46524a'),\n",
       "  AIMessage(content='', additional_kwargs={'tool_calls': [{'id': 'n5qnnt79q', 'function': {'arguments': '{\"a\":2,\"b\":2}', 'name': 'add'}, 'type': 'function'}]}, response_metadata={'token_usage': {'completion_tokens': 72, 'prompt_tokens': 995, 'total_tokens': 1067, 'completion_time': 0.075135422, 'prompt_time': 0.159817544, 'queue_time': 0.002587791000000006, 'total_time': 0.234952966}, 'model_name': 'llama3-8b-8192', 'system_fingerprint': 'fp_0fb809dba3', 'service_tier': 'on_demand', 'finish_reason': 'tool_calls', 'logprobs': None}, id='run--7f633e93-d4b3-45db-8f63-9de90b9f87dc-0', tool_calls=[{'name': 'add', 'args': {'a': 2, 'b': 2}, 'id': 'n5qnnt79q', 'type': 'tool_call'}], usage_metadata={'input_tokens': 995, 'output_tokens': 72, 'total_tokens': 1067}),\n",
       "  ToolMessage(content='4.0', name='add', id='2389cc16-1afe-405a-b8c8-c63143447877', tool_call_id='n5qnnt79q'),\n",
       "  AIMessage(content='The answer to the question is 4.0.', additional_kwargs={}, response_metadata={'token_usage': {'completion_tokens': 12, 'prompt_tokens': 1068, 'total_tokens': 1080, 'completion_time': 0.01305438, 'prompt_time': 0.118587153, 'queue_time': 0.002620019000000001, 'total_time': 0.131641533}, 'model_name': 'llama3-8b-8192', 'system_fingerprint': 'fp_0fb809dba3', 'service_tier': 'on_demand', 'finish_reason': 'stop', 'logprobs': None}, id='run--63875bfa-8651-4543-9a15-e130d1a9d02d-0', usage_metadata={'input_tokens': 1068, 'output_tokens': 12, 'total_tokens': 1080})]}"
      ]
     },
     "execution_count": 8,
     "metadata": {},
     "output_type": "execute_result"
    }
   ],
   "source": [
    "response = graph.invoke({\"messages\": \"What is 2 plus 2?\"})\n",
    "response"
   ]
  },
  {
   "cell_type": "code",
   "execution_count": 9,
   "id": "e1b043cf",
   "metadata": {},
   "outputs": [
    {
     "data": {
      "text/plain": [
       "{'messages': [HumanMessage(content='What is 5 plus 2?', additional_kwargs={}, response_metadata={}, id='d6e1c073-f18f-454b-ae6e-aa35066b47c5'),\n",
       "  AIMessage(content='', additional_kwargs={'tool_calls': [{'id': 'wzjy5n4zq', 'function': {'arguments': '{\"a\":5,\"b\":2}', 'name': 'add'}, 'type': 'function'}]}, response_metadata={'token_usage': {'completion_tokens': 72, 'prompt_tokens': 995, 'total_tokens': 1067, 'completion_time': 0.053706119, 'prompt_time': 0.109994765, 'queue_time': 0.0023246560000000083, 'total_time': 0.163700884}, 'model_name': 'llama3-8b-8192', 'system_fingerprint': 'fp_5b339000ab', 'service_tier': 'on_demand', 'finish_reason': 'tool_calls', 'logprobs': None}, id='run--d47e7228-ce95-4d4a-bfb8-8ab7223734a2-0', tool_calls=[{'name': 'add', 'args': {'a': 5, 'b': 2}, 'id': 'wzjy5n4zq', 'type': 'tool_call'}], usage_metadata={'input_tokens': 995, 'output_tokens': 72, 'total_tokens': 1067}),\n",
       "  ToolMessage(content='7.0', name='add', id='f456dcaa-fe72-4e6b-a581-466f9c969d48', tool_call_id='wzjy5n4zq'),\n",
       "  AIMessage(content='', additional_kwargs={'tool_calls': [{'id': 'fs4xvvwgg', 'function': {'arguments': '{\"topic\":\"What is 5 plus 2?\"}', 'name': 'explain'}, 'type': 'function'}]}, response_metadata={'token_usage': {'completion_tokens': 39, 'prompt_tokens': 1074, 'total_tokens': 1113, 'completion_time': 0.044211783, 'prompt_time': 0.120852231, 'queue_time': 0.002613054999999989, 'total_time': 0.165064014}, 'model_name': 'llama3-8b-8192', 'system_fingerprint': 'fp_0fb809dba3', 'service_tier': 'on_demand', 'finish_reason': 'tool_calls', 'logprobs': None}, id='run--5bb64cc0-dad9-492f-81d3-b43c85852985-0', tool_calls=[{'name': 'explain', 'args': {'topic': 'What is 5 plus 2?'}, 'id': 'fs4xvvwgg', 'type': 'tool_call'}], usage_metadata={'input_tokens': 1074, 'output_tokens': 39, 'total_tokens': 1113}),\n",
       "  ToolMessage(content='What is 5 plus 2? is a broad concept in AI. (Add more details here.)', name='explain', id='4dffeeb3-b421-4e3e-b8e8-92dbcb94420a', tool_call_id='fs4xvvwgg'),\n",
       "  AIMessage(content='7', additional_kwargs={}, response_metadata={'token_usage': {'completion_tokens': 2, 'prompt_tokens': 1167, 'total_tokens': 1169, 'completion_time': 0.003319194, 'prompt_time': 0.129980331, 'queue_time': 0.002567609999999998, 'total_time': 0.133299525}, 'model_name': 'llama3-8b-8192', 'system_fingerprint': 'fp_0fb809dba3', 'service_tier': 'on_demand', 'finish_reason': 'stop', 'logprobs': None}, id='run--394392eb-eeb5-4578-931a-ac0c81f0ba10-0', usage_metadata={'input_tokens': 1167, 'output_tokens': 2, 'total_tokens': 1169})]}"
      ]
     },
     "execution_count": 9,
     "metadata": {},
     "output_type": "execute_result"
    }
   ],
   "source": [
    "response = graph.invoke({\"messages\": \"What is 5 plus 2?\"})\n",
    "response"
   ]
  }
 ],
 "metadata": {
  "kernelspec": {
   "display_name": "Agentic_AI",
   "language": "python",
   "name": "python3"
  },
  "language_info": {
   "codemirror_mode": {
    "name": "ipython",
    "version": 3
   },
   "file_extension": ".py",
   "mimetype": "text/x-python",
   "name": "python",
   "nbconvert_exporter": "python",
   "pygments_lexer": "ipython3",
   "version": "3.12.7"
  }
 },
 "nbformat": 4,
 "nbformat_minor": 5
}
