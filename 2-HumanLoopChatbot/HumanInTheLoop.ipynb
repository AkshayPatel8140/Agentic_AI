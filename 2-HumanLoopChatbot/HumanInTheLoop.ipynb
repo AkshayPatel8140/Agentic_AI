{
 "cells": [
  {
   "cell_type": "markdown",
   "id": "4526ff2b",
   "metadata": {},
   "source": [
    "## Human In The loop / Human Feedback"
   ]
  },
  {
   "cell_type": "code",
   "execution_count": 1,
   "id": "536f3ef5",
   "metadata": {},
   "outputs": [
    {
     "data": {
      "text/plain": [
       "ChatGroq(client=<groq.resources.chat.completions.Completions object at 0x10b352300>, async_client=<groq.resources.chat.completions.AsyncCompletions object at 0x10b54d820>, model_name='llama3-8b-8192', model_kwargs={}, groq_api_key=SecretStr('**********'))"
      ]
     },
     "execution_count": 1,
     "metadata": {},
     "output_type": "execute_result"
    }
   ],
   "source": [
    "import os\n",
    "from langchain.chat_models import init_chat_model\n",
    "\n",
    "llm = init_chat_model(\"groq:llama3-8b-8192\")\n",
    "llm"
   ]
  },
  {
   "cell_type": "code",
   "execution_count": 2,
   "id": "f1a6bd85",
   "metadata": {},
   "outputs": [
    {
     "data": {
      "text/plain": [
       "<langgraph.graph.state.StateGraph at 0x106094bf0>"
      ]
     },
     "execution_count": 2,
     "metadata": {},
     "output_type": "execute_result"
    }
   ],
   "source": [
    "from typing import Annotated\n",
    "from langchain_tavily import TavilySearch\n",
    "from langchain_core.tools import tool\n",
    "from typing_extensions import TypedDict\n",
    "\n",
    "from langgraph.checkpoint.memory import MemorySaver\n",
    "from langgraph.graph import StateGraph, START, END\n",
    "from langgraph.graph.message import add_messages\n",
    "from langgraph.prebuilt import ToolNode, tools_condition\n",
    "\n",
    "from langgraph.types import Command, interrupt\n",
    "\n",
    "\n",
    "class State(TypedDict):\n",
    "    messages: Annotated[list, add_messages]\n",
    "\n",
    "\n",
    "graph_builder = StateGraph(State)\n",
    "\n",
    "\n",
    "@tool\n",
    "def human_assistance(query: str) -> str:\n",
    "    \"\"\"Request assistance from the human.\"\"\"\n",
    "    human_response = interrupt({\"Query\": query})\n",
    "    return human_response[\"data\"]\n",
    "\n",
    "\n",
    "tool = TavilySearch(max_results=2)\n",
    "tools = [tool, human_assistance]\n",
    "llm_with_tools = llm.bind_tools(tools)\n",
    "\n",
    "\n",
    "def chatBot(state: State):\n",
    "    messages = llm_with_tools.invoke(state[\"messages\"])\n",
    "\n",
    "    return {\"messages\": messages}\n",
    "\n",
    "\n",
    "graph_builder.add_node(\"chatBot\", chatBot)\n",
    "\n",
    "tools_node = ToolNode(tools=tools)\n",
    "graph_builder.add_node(\"tools\", tools_node)\n",
    "\n",
    "\n",
    "graph_builder.add_edge(START, \"chatBot\")\n",
    "graph_builder.add_conditional_edges(\"chatBot\", tools_condition)\n",
    "graph_builder.add_edge(\"tools\", \"chatBot\")"
   ]
  },
  {
   "cell_type": "code",
   "execution_count": 3,
   "id": "932c1fbd",
   "metadata": {},
   "outputs": [
    {
     "data": {
      "image/png": "[encoded data removed]",
      "text/plain": [
       "<langgraph.graph.state.CompiledStateGraph object at 0x10bb16cc0>"
      ]
     },
     "execution_count": 3,
     "metadata": {},
     "output_type": "execute_result"
    }
   ],
   "source": [
    "memory = MemorySaver()\n",
    "\n",
    "graph = graph_builder.compile(checkpointer=memory)\n",
    "graph"
   ]
  },
  {
   "cell_type": "code",
   "execution_count": 4,
   "id": "5fbd4465",
   "metadata": {},
   "outputs": [
    {
     "name": "stdout",
     "output_type": "stream",
     "text": [
      "================================\u001b[1m Human Message \u001b[0m=================================\n",
      "\n",
      "Hi, I need some expert assistance for building the AI agent, Could you request assistance for me?\n",
      "==================================\u001b[1m Ai Message \u001b[0m==================================\n",
      "Tool Calls:\n",
      "  human_assistance (k908798kp)\n",
      " Call ID: k908798kp\n",
      "  Args:\n",
      "    query: I need some expert assistance for building the AI agent, Could you request assistance for me?\n"
     ]
    }
   ],
   "source": [
    "user_input = \"Hi, I need some expert assistance for building the AI agent, Could you request assistance for me?\"\n",
    "config = {\"configurable\": {\"thread_id\": \"1\"}}\n",
    "\n",
    "event  = graph.stream(\n",
    "    {\"messages\": [user_input]},\n",
    "    config=config,\n",
    "    stream_mode=\"values\")\n",
    "\n",
    "for event_chunk in event:\n",
    "    if \"messages\" in event_chunk:\n",
    "        event_chunk['messages'][-1].pretty_print()\n",
    "\n"
   ]
  },
  {
   "cell_type": "code",
   "execution_count": 5,
   "id": "25edd602",
   "metadata": {},
   "outputs": [
    {
     "name": "stdout",
     "output_type": "stream",
     "text": [
      "==================================\u001b[1m Ai Message \u001b[0m==================================\n",
      "Tool Calls:\n",
      "  human_assistance (k908798kp)\n",
      " Call ID: k908798kp\n",
      "  Args:\n",
      "    query: I need some expert assistance for building the AI agent, Could you request assistance for me?\n",
      "=================================\u001b[1m Tool Message \u001b[0m=================================\n",
      "Name: human_assistance\n",
      "\n",
      "[\"We, the experts, are here to assist you with building your AI agent. we recommend you to check out the langchain library, which is a powerful tool for building AI agents. It provides a wide range of features and functionalities that can help you in your project. You can find more information about it at https://langchain.com/. If you have any specific questions or need further assistance, feel free to ask!\", \"it is more reliable and extensible than simple autonomous agents. It allows you to build complex AI systems that can handle a wide range of tasks and interactions. If you have any specific questions or need further assistance, feel free to ask!\"]\n",
      "==================================\u001b[1m Ai Message \u001b[0m==================================\n",
      "\n",
      "Thank you for the detailed response from the tool. Based on the output, I will provide a direct response to your original question.\n",
      "\n",
      "I completely agree with the experts' recommendation to check out the Langchain library for building AI agents. It seems to be a powerful tool that can help with a wide range of AI-related tasks. I will make sure to look into it and explore its features and functionalities further.\n",
      "\n",
      "Additionally, I appreciate the experts' emphasis on the reliability and extensibility of Langchain. It's great to know that the library can handle complex AI systems and tasks.\n",
      "\n",
      "Thank you again for the expert assistance!\n"
     ]
    }
   ],
   "source": [
    "human_response = (\n",
    "    \"We, the experts, are here to assist you with building your AI agent. we recommend you to check out the langchain library, which is a powerful tool for building AI agents. It provides a wide range of features and functionalities that can help you in your project. You can find more information about it at https://langchain.com/. If you have any specific questions or need further assistance, feel free to ask!\",\n",
    "    \"it is more reliable and extensible than simple autonomous agents. It allows you to build complex AI systems that can handle a wide range of tasks and interactions. If you have any specific questions or need further assistance, feel free to ask!\",\n",
    ")\n",
    "\n",
    "human_command = Command(resume={'data': human_response})\n",
    "event = graph.stream(human_command, config=config, stream_mode='values')\n",
    "for event_chunk in event:\n",
    "    if \"messages\" in event_chunk:\n",
    "        event_chunk['messages'][-1].pretty_print()"
   ]
  },
  {
   "cell_type": "code",
   "execution_count": null,
   "id": "49af73df",
   "metadata": {},
   "outputs": [],
   "source": []
  }
 ],
 "metadata": {
  "kernelspec": {
   "display_name": "Agentic_AI",
   "language": "python",
   "name": "python3"
  },
  "language_info": {
   "codemirror_mode": {
    "name": "ipython",
    "version": 3
   },
   "file_extension": ".py",
   "mimetype": "text/x-python",
   "name": "python",
   "nbconvert_exporter": "python",
   "pygments_lexer": "ipython3",
   "version": "3.12.7"
  }
 },
 "nbformat": 4,
 "nbformat_minor": 5
}
