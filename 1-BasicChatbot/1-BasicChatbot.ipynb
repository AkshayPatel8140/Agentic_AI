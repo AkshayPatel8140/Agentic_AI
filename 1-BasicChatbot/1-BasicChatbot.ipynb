{
 "cells": [
  {
   "cell_type": "markdown",
   "id": "335c5c60",
   "metadata": {},
   "source": [
    "# Basic AI chatbot using langGraph (GRAPH API)"
   ]
  },
  {
   "cell_type": "code",
   "execution_count": 1,
   "id": "c2cfed39",
   "metadata": {},
   "outputs": [],
   "source": [
    "from typing import Annotated\n",
    "from typing_extensions import TypedDict\n",
    "\n",
    "from langgraph.graph import StateGraph, START, END\n",
    "from langgraph.graph.message import add_messages"
   ]
  },
  {
   "cell_type": "code",
   "execution_count": 2,
   "id": "b293f4eb",
   "metadata": {},
   "outputs": [],
   "source": [
    "class State(TypedDict):\n",
    "    # Messages have the type \"list\" and the \"add_messages\" is function\n",
    "    # in Annotated define how this message should be updated\n",
    "    # in this case it append the message to the list, instead of updating the message\n",
    "    messages: Annotated[list, add_messages]"
   ]
  },
  {
   "cell_type": "code",
   "execution_count": 3,
   "id": "f5ccc69f",
   "metadata": {},
   "outputs": [
    {
     "data": {
      "text/plain": [
       "True"
      ]
     },
     "execution_count": 3,
     "metadata": {},
     "output_type": "execute_result"
    }
   ],
   "source": [
    "import os\n",
    "from dotenv import load_dotenv\n",
    "load_dotenv()"
   ]
  },
  {
   "cell_type": "code",
   "execution_count": 4,
   "id": "b8dea98a",
   "metadata": {},
   "outputs": [
    {
     "data": {
      "text/plain": [
       "ChatGroq(client=<groq.resources.chat.completions.Completions object at 0x10b3b7b90>, async_client=<groq.resources.chat.completions.AsyncCompletions object at 0x10b4cda30>, model_name='meta-llama/llama-4-scout-17b-16e-instruct', model_kwargs={}, groq_api_key=SecretStr('**********'))"
      ]
     },
     "execution_count": 4,
     "metadata": {},
     "output_type": "execute_result"
    }
   ],
   "source": [
    "from langchain_groq import ChatGroq\n",
    "from langchain.chat_models import init_chat_model\n",
    "\n",
    "# llm = ChatGroq(model=\"meta-llama/llama-4-scout-17b-16e-instruct\")\n",
    "llm = init_chat_model(\"groq:meta-llama/llama-4-scout-17b-16e-instruct\") # This is an alternative way to initialize the\n",
    "llm"
   ]
  },
  {
   "cell_type": "code",
   "execution_count": 5,
   "id": "2edf5150",
   "metadata": {},
   "outputs": [],
   "source": [
    "# Node functionality\n",
    "def chatBot(state: State):\n",
    "    # Append the AI response to the messages list\n",
    "    # return {\"messages\": state[\"messages\"] + [llm.invoke(state[\"messages\"])]}\n",
    "    return {\"messages\": [llm.invoke(state[\"messages\"])]}"
   ]
  },
  {
   "cell_type": "code",
   "execution_count": 6,
   "id": "be90b6da",
   "metadata": {},
   "outputs": [],
   "source": [
    "graph_builder = StateGraph(State)\n",
    "\n",
    "# Create the chatbot node\n",
    "graph_builder.add_node(\"llm-chatbot\", chatBot)\n",
    "\n",
    "## Adding Edges\n",
    "graph_builder.add_edge(START, \"llm-chatbot\")\n",
    "graph_builder.add_edge(\"llm-chatbot\", END)\n",
    "\n",
    "# Compile Graph\n",
    "graph = graph_builder.compile()"
   ]
  },
  {
   "cell_type": "code",
   "execution_count": 7,
   "id": "a84009fc",
   "metadata": {},
   "outputs": [
    {
     "data": {
      "image/png": "[encoded data removed]",
      "text/plain": [
       "<IPython.core.display.Image object>"
      ]
     },
     "metadata": {},
     "output_type": "display_data"
    }
   ],
   "source": [
    "# Visualize the graph\n",
    "from IPython.display import Image, display\n",
    "\n",
    "try:\n",
    "    display(Image(graph.get_graph().draw_mermaid_png()))\n",
    "except Exception as e:\n",
    "    # Handle the case where the graph cannot be displayed\n",
    "    print(f\"Error displaying graph: {e}\")"
   ]
  },
  {
   "cell_type": "code",
   "execution_count": 8,
   "id": "155b4d34",
   "metadata": {},
   "outputs": [],
   "source": [
    "response = graph.invoke({\"messages\": \"HI\"})"
   ]
  },
  {
   "cell_type": "code",
   "execution_count": 9,
   "id": "c4b7c21c",
   "metadata": {},
   "outputs": [
    {
     "data": {
      "text/plain": [
       "'Hi! How are you today? Is there something I can help you with or would you like to chat?'"
      ]
     },
     "execution_count": 9,
     "metadata": {},
     "output_type": "execute_result"
    }
   ],
   "source": [
    "response['messages'][-1].content"
   ]
  },
  {
   "cell_type": "code",
   "execution_count": 10,
   "id": "5703154a",
   "metadata": {},
   "outputs": [
    {
     "name": "stdout",
     "output_type": "stream",
     "text": [
      "I'm doing well, thank you for asking! I'm a large language model, so I don't have feelings or emotions like humans do, but I'm always happy to chat with you and help with any questions or topics you'd like to discuss. How about you? How's your day going so far?\n"
     ]
    }
   ],
   "source": [
    "for event in graph.stream({\"messages\": \"Hello! How are you?\"}):\n",
    "    for value in event.values():\n",
    "        print(value['messages'][-1].content)"
   ]
  },
  {
   "cell_type": "markdown",
   "id": "2102ab4c",
   "metadata": {},
   "source": [
    "## Chatbot with the tool"
   ]
  },
  {
   "cell_type": "code",
   "execution_count": 11,
   "id": "b04f65f1",
   "metadata": {},
   "outputs": [
    {
     "data": {
      "text/plain": [
       "{'error': ValueError('Error 401: Unauthorized: missing or invalid API key.')}"
      ]
     },
     "execution_count": 11,
     "metadata": {},
     "output_type": "execute_result"
    }
   ],
   "source": [
    "from langchain_tavily import TavilySearch\n",
    "\n",
    "tool = TavilySearch(max_results=2)\n",
    "\n",
    "tool.invoke(\"What is the capital of France?\")"
   ]
  },
  {
   "cell_type": "code",
   "execution_count": 12,
   "id": "bab9a253",
   "metadata": {},
   "outputs": [],
   "source": [
    "# Create a Custom Function\n",
    "# def multiply(a: int, b: int) -> int:\n",
    "#     \"\"\"Multiply a and b.\n",
    "\n",
    "#     Args:\n",
    "#         a (int): First int\n",
    "#         b (int): Second int\n",
    "\n",
    "#     Returns:\n",
    "#         int: output integer.\n",
    "#     \"\"\"\n",
    "#     return a * b\n",
    "\n",
    "\n",
    "def multiply(a, b):\n",
    "    \"\"\"\n",
    "    Multiply a and b.\n",
    "    Args:\n",
    "        a: The first number (int or str)\n",
    "        b: The second number (int or str)\n",
    "    Returns:\n",
    "        int: output integer.\n",
    "    \"\"\"\n",
    "    return int(a) * int(b)"
   ]
  },
  {
   "cell_type": "code",
   "execution_count": 13,
   "id": "0e202346",
   "metadata": {},
   "outputs": [],
   "source": [
    "tools= [tool,multiply]"
   ]
  },
  {
   "cell_type": "code",
   "execution_count": 14,
   "id": "8e05dcc4",
   "metadata": {},
   "outputs": [
    {
     "data": {
      "text/plain": [
       "RunnableBinding(bound=ChatGroq(client=<groq.resources.chat.completions.Completions object at 0x10b3b7b90>, async_client=<groq.resources.chat.completions.AsyncCompletions object at 0x10b4cda30>, model_name='meta-llama/llama-4-scout-17b-16e-instruct', model_kwargs={}, groq_api_key=SecretStr('**********')), kwargs={'tools': [{'type': 'function', 'function': {'name': 'tavily_search', 'description': 'A search engine optimized for comprehensive, accurate, and trusted results. Useful for when you need to answer questions about current events. It not only retrieves URLs and snippets, but offers advanced search depths, domain management, time range filters, and image search, this tool delivers real-time, accurate, and citation-backed results.Input should be a search query.', 'parameters': {'properties': {'query': {'description': 'Search query to look up', 'type': 'string'}, 'include_domains': {'anyOf': [{'items': {'type': 'string'}, 'type': 'array'}, {'type': 'null'}], 'default': [], 'description': 'A list of domains to restrict search results to.\\n\\n        Use this parameter when:\\n        1. The user explicitly requests information from specific websites (e.g., \"Find climate data from nasa.gov\")\\n        2. The user mentions an organization or company without specifying the domain (e.g., \"Find information about iPhones from Apple\")\\n\\n        In both cases, you should determine the appropriate domains (e.g., [\"nasa.gov\"] or [\"apple.com\"]) and set this parameter.\\n\\n        Results will ONLY come from the specified domains - no other sources will be included.\\n        Default is None (no domain restriction).\\n        '}, 'exclude_domains': {'anyOf': [{'items': {'type': 'string'}, 'type': 'array'}, {'type': 'null'}], 'default': [], 'description': 'A list of domains to exclude from search results.\\n\\n        Use this parameter when:\\n        1. The user explicitly requests to avoid certain websites (e.g., \"Find information about climate change but not from twitter.com\")\\n        2. The user mentions not wanting results from specific organizations without naming the domain (e.g., \"Find phone reviews but nothing from Apple\")\\n\\n        In both cases, you should determine the appropriate domains to exclude (e.g., [\"twitter.com\"] or [\"apple.com\"]) and set this parameter.\\n\\n        Results will filter out all content from the specified domains.\\n        Default is None (no domain exclusion).\\n        '}, 'search_depth': {'anyOf': [{'enum': ['basic', 'advanced'], 'type': 'string'}, {'type': 'null'}], 'default': 'basic', 'description': 'Controls search thoroughness and result comprehensiveness.\\n    \\n        Use \"basic\" for simple queries requiring quick, straightforward answers.\\n        \\n        Use \"advanced\" (default) for complex queries, specialized topics, \\n        rare information, or when in-depth analysis is needed.\\n        '}, 'include_images': {'anyOf': [{'type': 'boolean'}, {'type': 'null'}], 'default': False, 'description': 'Determines if the search returns relevant images along with text results.\\n   \\n        Set to True when the user explicitly requests visuals or when images would \\n        significantly enhance understanding (e.g., \"Show me what black holes look like,\" \\n        \"Find pictures of Renaissance art\").\\n        \\n        Leave as False (default) for most informational queries where text is sufficient.\\n        '}, 'time_range': {'anyOf': [{'enum': ['day', 'week', 'month', 'year'], 'type': 'string'}, {'type': 'null'}], 'default': None, 'description': 'Limits results to content published within a specific timeframe.\\n        \\n        ONLY set this when the user explicitly mentions a time period \\n        (e.g., \"latest AI news,\" \"articles from last week\").\\n        \\n        For less popular or niche topics, use broader time ranges \\n        (\"month\" or \"year\") to ensure sufficient relevant results.\\n   \\n        Options: \"day\" (24h), \"week\" (7d), \"month\" (30d), \"year\" (365d).\\n        \\n        Default is None.\\n        '}, 'topic': {'anyOf': [{'enum': ['general', 'news', 'finance'], 'type': 'string'}, {'type': 'null'}], 'default': 'general', 'description': 'Specifies search category for optimized results.\\n   \\n        Use \"general\" (default) for most queries, INCLUDING those with terms like \\n        \"latest,\" \"newest,\" or \"recent\" when referring to general information.\\n\\n        Use \"finance\" for markets, investments, economic data, or financial news.\\n\\n        Use \"news\" ONLY for politics, sports, or major current events covered by \\n        mainstream media - NOT simply because a query asks for \"new\" information.\\n        '}, 'include_favicon': {'anyOf': [{'type': 'boolean'}, {'type': 'null'}], 'default': False, 'description': \"Determines whether to include favicon URLs for each search result.\\n        \\n        When enabled, each search result will include the website's favicon URL,\\n        which can be useful for:\\n        - Building rich UI interfaces with visual website indicators\\n        - Providing visual cues about the source's credibility or brand\\n        - Creating bookmark-like displays with recognizable site icons\\n        \\n        Set to True when creating user interfaces that benefit from visual branding\\n        or when favicon information enhances the user experience.\\n        \\n        Default is False to minimize response size and API usage.\\n        \"}, 'start_date': {'anyOf': [{'type': 'string'}, {'type': 'null'}], 'default': None, 'description': 'Filters search results to include only content published on or after this date.\\n        \\n        Use this parameter when you need to:\\n        - Find recent developments or updates on a topic\\n        - Exclude outdated information from search results\\n        - Focus on content within a specific timeframe\\n        - Combine with end_date to create a custom date range\\n        \\n        Format must be YYYY-MM-DD (e.g., \"2024-01-15\" for January 15, 2024).\\n        \\n        Examples:\\n        - \"2024-01-01\" - Results from January 1, 2024 onwards\\n        - \"2023-12-25\" - Results from December 25, 2023 onwards\\n        \\n        When combined with end_date, creates a precise date range filter.\\n        \\n        Default is None (no start date restriction).\\n        '}, 'end_date': {'anyOf': [{'type': 'string'}, {'type': 'null'}], 'default': None, 'description': 'Filters search results to include only content published on or before this date.\\n        \\n        Use this parameter when you need to:\\n        - Exclude content published after a certain date\\n        - Study historical information or past events\\n        - Research how topics were covered during specific time periods\\n        - Combine with start_date to create a custom date range\\n        \\n        Format must be YYYY-MM-DD (e.g., \"2024-03-31\" for March 31, 2024).\\n        \\n        Examples:\\n        - \"2024-03-31\" - Results up to and including March 31, 2024\\n        - \"2023-12-31\" - Results up to and including December 31, 2023\\n        \\n        When combined with start_date, creates a precise date range filter.\\n        For example: start_date=\"2024-01-01\", end_date=\"2024-03-31\" \\n        returns results from Q1 2024 only.\\n        \\n        Default is None (no end date restriction).\\n        '}}, 'required': ['query'], 'type': 'object'}}}, {'type': 'function', 'function': {'name': 'multiply', 'description': 'Multiply a and b.\\nArgs:\\n    a: The first number (int or str)\\n    b: The second number (int or str)\\nReturns:\\n    int: output integer.', 'parameters': {'properties': {'a': {}, 'b': {}}, 'required': ['a', 'b'], 'type': 'object'}}}]}, config={}, config_factories=[])"
      ]
     },
     "execution_count": 14,
     "metadata": {},
     "output_type": "execute_result"
    }
   ],
   "source": [
    "llm_with_tools = llm.bind_tools(tools)\n",
    "llm_with_tools"
   ]
  },
  {
   "cell_type": "code",
   "execution_count": 15,
   "id": "46d1e47b",
   "metadata": {},
   "outputs": [
    {
     "data": {
      "image/png": "[encoded data removed]",
      "text/plain": [
       "<IPython.core.display.Image object>"
      ]
     },
     "metadata": {},
     "output_type": "display_data"
    }
   ],
   "source": [
    "# StateGraph\n",
    "from langgraph.graph import StateGraph, START, END\n",
    "from langgraph.prebuilt import ToolNode, tools_condition\n",
    "\n",
    "\n",
    "# Node Definition\n",
    "def tool_calling_llm(state: State):\n",
    "    return {\"messages\": [llm_with_tools.invoke(state[\"messages\"])]}\n",
    "\n",
    "\n",
    "# Graph Builder\n",
    "builder = StateGraph(State)\n",
    "builder.add_node(\"tool_calling_llm\", tool_calling_llm)\n",
    "builder.add_node(\"tools\", ToolNode(tools))\n",
    "\n",
    "# Add Edges\n",
    "builder.add_edge(START, \"tool_calling_llm\")\n",
    "# If the latest message result from the assistant is a tool call, then tool_condition route to tool node\n",
    "# If the latest message result from the assistant is a not tool call, then tool_condition route to END\n",
    "builder.add_conditional_edges(\"tool_calling_llm\", tools_condition)\n",
    "builder.add_edge(\"tools\", END)\n",
    "\n",
    "# Compile the graph\n",
    "graph = builder.compile()\n",
    "\n",
    "display(Image(graph.get_graph().draw_mermaid_png()))"
   ]
  },
  {
   "cell_type": "code",
   "execution_count": 16,
   "id": "c76f9c29",
   "metadata": {},
   "outputs": [],
   "source": [
    "response = graph.invoke({\"messages\": \"What is the Recent AI news?\"})"
   ]
  },
  {
   "cell_type": "code",
   "execution_count": 17,
   "id": "8e19d359",
   "metadata": {},
   "outputs": [
    {
     "data": {
      "text/plain": [
       "\"{'error': ValueError('Error 401: Unauthorized: missing or invalid API key.')}\""
      ]
     },
     "execution_count": 17,
     "metadata": {},
     "output_type": "execute_result"
    }
   ],
   "source": [
    "response['messages'][-1].content"
   ]
  },
  {
   "cell_type": "code",
   "execution_count": 18,
   "id": "d0b398fd",
   "metadata": {},
   "outputs": [
    {
     "name": "stdout",
     "output_type": "stream",
     "text": [
      "================================\u001b[1m Human Message \u001b[0m=================================\n",
      "\n",
      "What is the Recent AI news?\n",
      "==================================\u001b[1m Ai Message \u001b[0m==================================\n",
      "Tool Calls:\n",
      "  tavily_search (fwcjevtrz)\n",
      " Call ID: fwcjevtrz\n",
      "  Args:\n",
      "    query: Recent AI news\n",
      "    search_depth: advanced\n",
      "    time_range: week\n",
      "    topic: news\n",
      "=================================\u001b[1m Tool Message \u001b[0m=================================\n",
      "Name: tavily_search\n",
      "\n",
      "{'error': ValueError('Error 401: Unauthorized: missing or invalid API key.')}\n"
     ]
    }
   ],
   "source": [
    "for m in response['messages']:\n",
    "    m.pretty_print()"
   ]
  },
  {
   "cell_type": "code",
   "execution_count": 19,
   "id": "e6d2d35d",
   "metadata": {},
   "outputs": [
    {
     "name": "stdout",
     "output_type": "stream",
     "text": [
      "================================\u001b[1m Human Message \u001b[0m=================================\n",
      "\n",
      "what is the 5 multiplied by 3 and then multiplied by 4?\n",
      "==================================\u001b[1m Ai Message \u001b[0m==================================\n",
      "Tool Calls:\n",
      "  multiply (tm3a2aps1)\n",
      " Call ID: tm3a2aps1\n",
      "  Args:\n",
      "    a: 15\n",
      "    b: 4\n",
      "=================================\u001b[1m Tool Message \u001b[0m=================================\n",
      "Name: multiply\n",
      "\n",
      "60\n"
     ]
    }
   ],
   "source": [
    "# Multiple multiplication is working\n",
    "response = graph.invoke({\"messages\": \"what is the 5 multiplied by 3 and then multiplied by 4?\"})\n",
    "for m in response['messages']:\n",
    "    m.pretty_print()"
   ]
  },
  {
   "cell_type": "code",
   "execution_count": 20,
   "id": "f8560584",
   "metadata": {},
   "outputs": [
    {
     "name": "stdout",
     "output_type": "stream",
     "text": [
      "================================\u001b[1m Human Message \u001b[0m=================================\n",
      "\n",
      "what is the AI new and 3 multiplied by 4?\n",
      "==================================\u001b[1m Ai Message \u001b[0m==================================\n",
      "Tool Calls:\n",
      "  tavily_search (w5pss2y4b)\n",
      " Call ID: w5pss2y4b\n",
      "  Args:\n",
      "    query: AI news\n",
      "  multiply (7yq4rfhc0)\n",
      " Call ID: 7yq4rfhc0\n",
      "  Args:\n",
      "    a: 3\n",
      "    b: 4\n",
      "=================================\u001b[1m Tool Message \u001b[0m=================================\n",
      "Name: tavily_search\n",
      "\n",
      "{'error': ValueError('Error 401: Unauthorized: missing or invalid API key.')}\n",
      "=================================\u001b[1m Tool Message \u001b[0m=================================\n",
      "Name: multiply\n",
      "\n",
      "12\n"
     ]
    }
   ],
   "source": [
    "# Research and the multiplying is not working\n",
    "response = graph.invoke({\"messages\": \"what is the AI new and 3 multiplied by 4?\"})\n",
    "for m in response['messages']:\n",
    "    m.pretty_print()"
   ]
  },
  {
   "cell_type": "markdown",
   "id": "d506029d",
   "metadata": {},
   "source": [
    "ReAct Agent Architecture"
   ]
  },
  {
   "cell_type": "code",
   "execution_count": 21,
   "id": "92357736",
   "metadata": {},
   "outputs": [
    {
     "data": {
      "image/png": "[encoded data removed]",
      "text/plain": [
       "<IPython.core.display.Image object>"
      ]
     },
     "metadata": {},
     "output_type": "display_data"
    }
   ],
   "source": [
    "# StateGraph\n",
    "from langgraph.graph import StateGraph, START, END\n",
    "from langgraph.prebuilt import ToolNode, tools_condition\n",
    "\n",
    "\n",
    "# Node Definition\n",
    "def tool_calling_llm(state: State):\n",
    "    return {\"messages\": [llm_with_tools.invoke(state[\"messages\"])]}\n",
    "\n",
    "\n",
    "# Graph Builder\n",
    "builder = StateGraph(State)\n",
    "builder.add_node(\"tool_calling_llm\", tool_calling_llm)\n",
    "builder.add_node(\"tools\", ToolNode(tools))\n",
    "\n",
    "# Add Edges\n",
    "builder.add_edge(START, \"tool_calling_llm\")\n",
    "# If the latest message result from the assistant is a tool call, then tool_condition route to tool node\n",
    "# If the latest message result from the assistant is a not tool call, then tool_condition route to END\n",
    "builder.add_conditional_edges(\"tool_calling_llm\", tools_condition)\n",
    "builder.add_edge(\"tools\", \"tool_calling_llm\")\n",
    "\n",
    "# Compile the graph\n",
    "graph = builder.compile()\n",
    "\n",
    "display(Image(graph.get_graph().draw_mermaid_png()))"
   ]
  },
  {
   "cell_type": "code",
   "execution_count": 22,
   "id": "268f5b5c",
   "metadata": {},
   "outputs": [
    {
     "name": "stdout",
     "output_type": "stream",
     "text": [
      "================================\u001b[1m Human Message \u001b[0m=================================\n",
      "\n",
      "Give me recent AI new and then multiply 3 by 4\n",
      "==================================\u001b[1m Ai Message \u001b[0m==================================\n",
      "Tool Calls:\n",
      "  tavily_search (vfs8d0fwr)\n",
      " Call ID: vfs8d0fwr\n",
      "  Args:\n",
      "    query: recent AI news\n",
      "    search_depth: advanced\n",
      "    topic: news\n",
      "  multiply (01rqr9h62)\n",
      " Call ID: 01rqr9h62\n",
      "  Args:\n",
      "    a: 3\n",
      "    b: 4\n",
      "=================================\u001b[1m Tool Message \u001b[0m=================================\n",
      "Name: tavily_search\n",
      "\n",
      "{'error': ValueError('Error 401: Unauthorized: missing or invalid API key.')}\n",
      "=================================\u001b[1m Tool Message \u001b[0m=================================\n",
      "Name: multiply\n",
      "\n",
      "12\n",
      "==================================\u001b[1m Ai Message \u001b[0m==================================\n",
      "\n",
      "Recent AI news: \n",
      "\n",
      "The Tavily AI search tool was unable to provide results as it requires an API key.\n",
      "\n",
      "The result of multiplying 3 by 4 is 12.\n"
     ]
    }
   ],
   "source": [
    "# Research and the multiplying is working\n",
    "response = graph.invoke({\"messages\": \"Give me recent AI new and then multiply 3 by 4\"})\n",
    "for m in response['messages']:\n",
    "    m.pretty_print()"
   ]
  },
  {
   "cell_type": "markdown",
   "id": "0bf01877",
   "metadata": {},
   "source": [
    "## Add Memory in Agentic Graph"
   ]
  },
  {
   "cell_type": "code",
   "execution_count": 23,
   "id": "50e792de",
   "metadata": {},
   "outputs": [
    {
     "name": "stdout",
     "output_type": "stream",
     "text": [
      "================================\u001b[1m Human Message \u001b[0m=================================\n",
      "\n",
      "Hello! my name is AK\n",
      "==================================\u001b[1m Ai Message \u001b[0m==================================\n",
      "\n",
      "Hello AK! It's nice to meet you. Is there something I can help you with or would you like to chat?\n"
     ]
    }
   ],
   "source": [
    "response = graph.invoke({\"messages\": \"Hello! my name is AK\"})\n",
    "for m in response['messages']:\n",
    "    m.pretty_print()"
   ]
  },
  {
   "cell_type": "code",
   "execution_count": 24,
   "id": "07f6467c",
   "metadata": {},
   "outputs": [
    {
     "name": "stdout",
     "output_type": "stream",
     "text": [
      "================================\u001b[1m Human Message \u001b[0m=================================\n",
      "\n",
      "What is my name?\n",
      "==================================\u001b[1m Ai Message \u001b[0m==================================\n",
      "\n",
      "I don't have access to personal information about you, including your name. Is there something else I can assist you with?\n"
     ]
    }
   ],
   "source": [
    "response = graph.invoke({\"messages\": \"What is my name?\"})\n",
    "for m in response['messages']:\n",
    "    m.pretty_print()"
   ]
  },
  {
   "cell_type": "code",
   "execution_count": 25,
   "id": "00cd6ec2",
   "metadata": {},
   "outputs": [
    {
     "data": {
      "image/png": "[encoded data removed]",
      "text/plain": [
       "<IPython.core.display.Image object>"
      ]
     },
     "metadata": {},
     "output_type": "display_data"
    }
   ],
   "source": [
    "# StateGraph\n",
    "from langgraph.graph import StateGraph, START, END\n",
    "from langgraph.prebuilt import ToolNode, tools_condition\n",
    "from langgraph.checkpoint.memory import MemorySaver\n",
    "\n",
    "memory = MemorySaver()\n",
    "\n",
    "\n",
    "# Node Definition\n",
    "def tool_calling_llm(state: State):\n",
    "    return {\"messages\": [llm_with_tools.invoke(state[\"messages\"])]}\n",
    "\n",
    "\n",
    "# Graph Builder\n",
    "builder = StateGraph(State)\n",
    "builder.add_node(\"tool_calling_llm\", tool_calling_llm)\n",
    "builder.add_node(\"tools\", ToolNode(tools))\n",
    "\n",
    "# Add Edges\n",
    "builder.add_edge(START, \"tool_calling_llm\")\n",
    "# If the latest message result from the assistant is a tool call, then tool_condition route to tool node\n",
    "# If the latest message result from the assistant is a not tool call, then tool_condition route to END\n",
    "builder.add_conditional_edges(\"tool_calling_llm\", tools_condition)\n",
    "builder.add_edge(\"tools\", \"tool_calling_llm\")\n",
    "\n",
    "# Compile the graph\n",
    "graph = builder.compile(checkpointer=memory)\n",
    "\n",
    "display(Image(graph.get_graph().draw_mermaid_png()))"
   ]
  },
  {
   "cell_type": "code",
   "execution_count": 26,
   "id": "04adf360",
   "metadata": {},
   "outputs": [
    {
     "name": "stdout",
     "output_type": "stream",
     "text": [
      "{'messages': [HumanMessage(content='Hello! My name is Ak', additional_kwargs={}, response_metadata={}, id='47e67dba-95ce-4273-8470-cec368541635'), AIMessage(content=\"Hello Ak! It's nice to meet you. Is there something I can help you with or would you like to chat?\", additional_kwargs={}, response_metadata={'token_usage': {'completion_tokens': 25, 'prompt_tokens': 2135, 'total_tokens': 2160, 'completion_time': 0.057214727, 'prompt_time': 0.059753764, 'queue_time': 0.19432974800000002, 'total_time': 0.116968491}, 'model_name': 'meta-llama/llama-4-scout-17b-16e-instruct', 'system_fingerprint': 'fp_79da0e0073', 'service_tier': 'on_demand', 'finish_reason': 'stop', 'logprobs': None}, id='run--f13a6318-8947-47e2-986f-ba9b58261133-0', usage_metadata={'input_tokens': 2135, 'output_tokens': 25, 'total_tokens': 2160})]}\n"
     ]
    }
   ],
   "source": [
    "config = {\"configurable\": {\"thread_id\": \"1\"}}\n",
    "response = graph.invoke({\"messages\": \"Hello! My name is Ak\"}, config=config)\n",
    "print(response)"
   ]
  },
  {
   "cell_type": "code",
   "execution_count": 27,
   "id": "ebad0f83",
   "metadata": {},
   "outputs": [
    {
     "data": {
      "text/plain": [
       "\"Hello Ak! It's nice to meet you. Is there something I can help you with or would you like to chat?\""
      ]
     },
     "execution_count": 27,
     "metadata": {},
     "output_type": "execute_result"
    }
   ],
   "source": [
    "response['messages'][-1].content   "
   ]
  },
  {
   "cell_type": "code",
   "execution_count": 28,
   "id": "694d0971",
   "metadata": {},
   "outputs": [
    {
     "data": {
      "text/plain": [
       "'Your name is Ak.'"
      ]
     },
     "execution_count": 28,
     "metadata": {},
     "output_type": "execute_result"
    }
   ],
   "source": [
    "response = graph.invoke({\"messages\": \"What is My name?\"}, config=config)\n",
    "response['messages'][-1].content"
   ]
  },
  {
   "cell_type": "code",
   "execution_count": 29,
   "id": "a208a898",
   "metadata": {},
   "outputs": [
    {
     "data": {
      "text/plain": [
       "'Yes, I remember you. You mentioned earlier that your name is Ak.'"
      ]
     },
     "execution_count": 29,
     "metadata": {},
     "output_type": "execute_result"
    }
   ],
   "source": [
    "response = graph.invoke({\"messages\": \"Hay do you remember me?\"}, config=config)\n",
    "response['messages'][-1].content"
   ]
  },
  {
   "cell_type": "markdown",
   "id": "19ed1520",
   "metadata": {},
   "source": [
    "## Streaming"
   ]
  },
  {
   "cell_type": "code",
   "execution_count": 30,
   "id": "5a3019bb",
   "metadata": {},
   "outputs": [],
   "source": [
    "from langgraph.checkpoint.memory import MemorySaver\n",
    "memory = MemorySaver()"
   ]
  },
  {
   "cell_type": "code",
   "execution_count": 31,
   "id": "e20715c3",
   "metadata": {},
   "outputs": [],
   "source": [
    "def superBot(state: State):\n",
    "    return {\"messages\": [llm.invoke(state[\"messages\"])]}"
   ]
  },
  {
   "cell_type": "code",
   "execution_count": 32,
   "id": "976bf19e",
   "metadata": {},
   "outputs": [
    {
     "data": {
      "image/png": "[encoded data removed]",
      "text/plain": [
       "<IPython.core.display.Image object>"
      ]
     },
     "metadata": {},
     "output_type": "display_data"
    }
   ],
   "source": [
    "graph_builder = StateGraph(State)\n",
    "\n",
    "# Node\n",
    "graph_builder.add_node(\"SuperBot\", superBot)\n",
    "\n",
    "# Add Edges\n",
    "graph_builder.add_edge(START, \"SuperBot\")\n",
    "graph_builder.add_edge(\"SuperBot\", END)\n",
    "\n",
    "graph = graph_builder.compile(checkpointer=memory)\n",
    "\n",
    "from IPython.display import Image, display\n",
    "display(Image(graph.get_graph().draw_mermaid_png()))"
   ]
  },
  {
   "cell_type": "code",
   "execution_count": 33,
   "id": "e9f050fc",
   "metadata": {},
   "outputs": [
    {
     "data": {
      "text/plain": [
       "{'messages': [HumanMessage(content='Hi, my name is Ak and I like watching movies', additional_kwargs={}, response_metadata={}, id='d568076d-5283-42f1-a503-7af3af8a0791'),\n",
       "  AIMessage(content=\"Hi Ak! Nice to meet you! Movies are a great way to relax and escape into different worlds. What kind of movies do you enjoy watching? Are you into action, comedy, romance, or something else? Do you have a favorite director or actor? Let's chat about movies!\", additional_kwargs={}, response_metadata={'token_usage': {'completion_tokens': 58, 'prompt_tokens': 21, 'total_tokens': 79, 'completion_time': 0.134674649, 'prompt_time': 0.002772335, 'queue_time': 0.193634346, 'total_time': 0.137446984}, 'model_name': 'meta-llama/llama-4-scout-17b-16e-instruct', 'system_fingerprint': 'fp_79da0e0073', 'service_tier': 'on_demand', 'finish_reason': 'stop', 'logprobs': None}, id='run--221b0880-56aa-4335-968f-923dae333e87-0', usage_metadata={'input_tokens': 21, 'output_tokens': 58, 'total_tokens': 79})]}"
      ]
     },
     "execution_count": 33,
     "metadata": {},
     "output_type": "execute_result"
    }
   ],
   "source": [
    "config = {\"configurable\": {\"thread_id\": \"1\"}}\n",
    "graph.invoke({\"messages\": \"Hi, my name is Ak and I like watching movies\"}, config=config)"
   ]
  },
  {
   "cell_type": "markdown",
   "id": "6ecc7689",
   "metadata": {},
   "source": [
    "In the Streaming:\n",
    "\n",
    "Methods: .stream() and astream()\n",
    "\n",
    "    - This methods are sync and async methods for streaming back result\n",
    "\n",
    "Additional parameters in the method for graph state\n",
    "\n",
    "    - values: This stream the full state of the graph after each node is called\n",
    "\n",
    "    - updates: This stream Updates to the graph after each node is called"
   ]
  },
  {
   "cell_type": "code",
   "execution_count": 34,
   "id": "b148488e",
   "metadata": {},
   "outputs": [],
   "source": [
    "config = {\"configurable\": {\"thread_id\": \"2\"}}\n",
    "for chunk in graph.stream(\n",
    "    {\"messages\": \"Hi, my name is Ak and I like watching movies\"},\n",
    "    config=config,\n",
    "    stream_mode=\"Updates\",\n",
    "):\n",
    "    print(chunk)"
   ]
  },
  {
   "cell_type": "code",
   "execution_count": 35,
   "id": "4fe5b828",
   "metadata": {},
   "outputs": [
    {
     "name": "stdout",
     "output_type": "stream",
     "text": [
      "{'messages': [HumanMessage(content='Hi, my name is Ak and I like watching movies', additional_kwargs={}, response_metadata={}, id='2c8beba7-5bfe-444d-8e9d-78549b7cea90'), AIMessage(content=\"Nice to meet you, Ak! What's your favorite movie genre? Are you into action, comedy, romance, or something else? Do you have a go-to streaming platform or do you prefer watching movies in theaters? Let's chat about movies!\", additional_kwargs={}, response_metadata={'token_usage': {'completion_tokens': 49, 'prompt_tokens': 21, 'total_tokens': 70, 'completion_time': 0.111886638, 'prompt_time': 0.002795324, 'queue_time': 0.19383565800000002, 'total_time': 0.114681962}, 'model_name': 'meta-llama/llama-4-scout-17b-16e-instruct', 'system_fingerprint': 'fp_79da0e0073', 'service_tier': 'on_demand', 'finish_reason': 'stop', 'logprobs': None}, id='run--02b1a54e-9b35-4201-93cb-ab664b81d0d7-0', usage_metadata={'input_tokens': 21, 'output_tokens': 49, 'total_tokens': 70}), HumanMessage(content='Hi, my name is Ak and I like watching movies', additional_kwargs={}, response_metadata={}, id='7f7126b7-1d15-4083-8570-731a1ae76ca4')]}\n",
      "{'messages': [HumanMessage(content='Hi, my name is Ak and I like watching movies', additional_kwargs={}, response_metadata={}, id='2c8beba7-5bfe-444d-8e9d-78549b7cea90'), AIMessage(content=\"Nice to meet you, Ak! What's your favorite movie genre? Are you into action, comedy, romance, or something else? Do you have a go-to streaming platform or do you prefer watching movies in theaters? Let's chat about movies!\", additional_kwargs={}, response_metadata={'token_usage': {'completion_tokens': 49, 'prompt_tokens': 21, 'total_tokens': 70, 'completion_time': 0.111886638, 'prompt_time': 0.002795324, 'queue_time': 0.19383565800000002, 'total_time': 0.114681962}, 'model_name': 'meta-llama/llama-4-scout-17b-16e-instruct', 'system_fingerprint': 'fp_79da0e0073', 'service_tier': 'on_demand', 'finish_reason': 'stop', 'logprobs': None}, id='run--02b1a54e-9b35-4201-93cb-ab664b81d0d7-0', usage_metadata={'input_tokens': 21, 'output_tokens': 49, 'total_tokens': 70}), HumanMessage(content='Hi, my name is Ak and I like watching movies', additional_kwargs={}, response_metadata={}, id='7f7126b7-1d15-4083-8570-731a1ae76ca4'), AIMessage(content=\"It looks like we've already met! Hi again, Ak! I'm glad you're excited about movies. What's been your favorite movie or movie experience recently? Got any new releases or classics on your watchlist?\", additional_kwargs={}, response_metadata={'token_usage': {'completion_tokens': 41, 'prompt_tokens': 90, 'total_tokens': 131, 'completion_time': 0.099116916, 'prompt_time': 0.004929354, 'queue_time': 0.19371941, 'total_time': 0.10404627}, 'model_name': 'meta-llama/llama-4-scout-17b-16e-instruct', 'system_fingerprint': 'fp_79da0e0073', 'service_tier': 'on_demand', 'finish_reason': 'stop', 'logprobs': None}, id='run--47bfae49-907e-4438-955f-dcb216d65103-0', usage_metadata={'input_tokens': 90, 'output_tokens': 41, 'total_tokens': 131})]}\n"
     ]
    }
   ],
   "source": [
    "for chunk in graph.stream(\n",
    "    {\"messages\": \"Hi, my name is Ak and I like watching movies\"},\n",
    "    config=config,\n",
    "    stream_mode=\"values\",\n",
    "):\n",
    "    print(chunk)"
   ]
  },
  {
   "cell_type": "code",
   "execution_count": 36,
   "id": "87d9d45a",
   "metadata": {},
   "outputs": [
    {
     "name": "stdout",
     "output_type": "stream",
     "text": [
      "{'SuperBot': {'messages': [AIMessage(content=\"Hi Ak! Nice to meet you! Movies can be a great way to relax and escape into different worlds. What kind of movies do you enjoy watching? Are you into action, comedy, drama, or something else? Do you have a favorite director or actor? I'm here to chat about movies with you!\", additional_kwargs={}, response_metadata={'token_usage': {'completion_tokens': 63, 'prompt_tokens': 21, 'total_tokens': 84, 'completion_time': 0.148729905, 'prompt_time': 0.002776965, 'queue_time': 0.19413094, 'total_time': 0.15150687}, 'model_name': 'meta-llama/llama-4-scout-17b-16e-instruct', 'system_fingerprint': 'fp_79da0e0073', 'service_tier': 'on_demand', 'finish_reason': 'stop', 'logprobs': None}, id='run--172c18a9-3790-46f0-a0ae-88ed6038f7ac-0', usage_metadata={'input_tokens': 21, 'output_tokens': 63, 'total_tokens': 84})]}}\n"
     ]
    }
   ],
   "source": [
    "config = {\"configurable\": {\"thread_id\": \"3\"}}\n",
    "for chunk in graph.stream(\n",
    "    {\"messages\": \"Hi, my name is Ak and I like watching movies\"},\n",
    "    config=config,\n",
    "    stream_mode=\"updates\",\n",
    "):\n",
    "    print(chunk)"
   ]
  },
  {
   "cell_type": "code",
   "execution_count": 37,
   "id": "6103d259",
   "metadata": {},
   "outputs": [
    {
     "name": "stdout",
     "output_type": "stream",
     "text": [
      "{'messages': [HumanMessage(content='Hi, my name is Ak and I like watching movies', additional_kwargs={}, response_metadata={}, id='06c880b5-ae7b-4b8e-999b-7776ff0133ce'), AIMessage(content=\"Hi Ak! Nice to meet you! Movies can be a great way to relax and escape into different worlds. What kind of movies do you enjoy watching? Are you into action, comedy, drama, or something else? Do you have a favorite director or actor? I'm here to chat about movies with you!\", additional_kwargs={}, response_metadata={'token_usage': {'completion_tokens': 63, 'prompt_tokens': 21, 'total_tokens': 84, 'completion_time': 0.148729905, 'prompt_time': 0.002776965, 'queue_time': 0.19413094, 'total_time': 0.15150687}, 'model_name': 'meta-llama/llama-4-scout-17b-16e-instruct', 'system_fingerprint': 'fp_79da0e0073', 'service_tier': 'on_demand', 'finish_reason': 'stop', 'logprobs': None}, id='run--172c18a9-3790-46f0-a0ae-88ed6038f7ac-0', usage_metadata={'input_tokens': 21, 'output_tokens': 63, 'total_tokens': 84}), HumanMessage(content='I also like Cricket', additional_kwargs={}, response_metadata={}, id='1523c0db-0148-4e4a-8a1a-02e7702614d2')]}\n",
      "{'messages': [HumanMessage(content='Hi, my name is Ak and I like watching movies', additional_kwargs={}, response_metadata={}, id='06c880b5-ae7b-4b8e-999b-7776ff0133ce'), AIMessage(content=\"Hi Ak! Nice to meet you! Movies can be a great way to relax and escape into different worlds. What kind of movies do you enjoy watching? Are you into action, comedy, drama, or something else? Do you have a favorite director or actor? I'm here to chat about movies with you!\", additional_kwargs={}, response_metadata={'token_usage': {'completion_tokens': 63, 'prompt_tokens': 21, 'total_tokens': 84, 'completion_time': 0.148729905, 'prompt_time': 0.002776965, 'queue_time': 0.19413094, 'total_time': 0.15150687}, 'model_name': 'meta-llama/llama-4-scout-17b-16e-instruct', 'system_fingerprint': 'fp_79da0e0073', 'service_tier': 'on_demand', 'finish_reason': 'stop', 'logprobs': None}, id='run--172c18a9-3790-46f0-a0ae-88ed6038f7ac-0', usage_metadata={'input_tokens': 21, 'output_tokens': 63, 'total_tokens': 84}), HumanMessage(content='I also like Cricket', additional_kwargs={}, response_metadata={}, id='1523c0db-0148-4e4a-8a1a-02e7702614d2'), AIMessage(content=\"A sports fan! Cricket is a great game, isn't it? There are so many exciting moments in a match, from a thrilling six to a crucial wicket. Are you a fan of a particular team, like India, Australia, or England? Or do you have a favorite player, like Virat Kohli, Steve Smith, or Babar Azam?\\n\\nDo you follow international matches, domestic leagues like the IPL, or a combination of both?\\n\\n(By the way, I can switch between movies and cricket easily, so feel free to switch topics anytime!)\", additional_kwargs={}, response_metadata={'token_usage': {'completion_tokens': 113, 'prompt_tokens': 97, 'total_tokens': 210, 'completion_time': 0.271245527, 'prompt_time': 0.005331282, 'queue_time': 0.272471485, 'total_time': 0.276576809}, 'model_name': 'meta-llama/llama-4-scout-17b-16e-instruct', 'system_fingerprint': 'fp_79da0e0073', 'service_tier': 'on_demand', 'finish_reason': 'stop', 'logprobs': None}, id='run--2ab9ac8b-2bad-425f-a3ff-f7fa122347ef-0', usage_metadata={'input_tokens': 97, 'output_tokens': 113, 'total_tokens': 210})]}\n"
     ]
    }
   ],
   "source": [
    "for chunk in graph.stream(\n",
    "    {\"messages\": \"I also like Cricket\"},\n",
    "    config=config,\n",
    "    stream_mode=\"values\",\n",
    "):\n",
    "    print(chunk)"
   ]
  },
  {
   "cell_type": "code",
   "execution_count": 38,
   "id": "be388121",
   "metadata": {},
   "outputs": [
    {
     "name": "stdout",
     "output_type": "stream",
     "text": [
      "{'event': 'on_chain_start', 'data': {'input': {'messages': ['Hi, my name is Ak and I like watching movies']}}, 'name': 'LangGraph', 'tags': [], 'run_id': 'a50f3dae-88c6-4698-8ecf-1817c505de6d', 'metadata': {'thread_id': '4'}, 'parent_ids': []}\n",
      "{'event': 'on_chain_start', 'data': {'input': {'messages': [HumanMessage(content='Hi, my name is Ak and I like watching movies', additional_kwargs={}, response_metadata={}, id='97b34a8e-5378-4ba7-8841-50a95607f8e7')]}}, 'name': 'SuperBot', 'tags': ['graph:step:1'], 'run_id': 'dae51764-dce0-4113-80a7-6a861bcf5c39', 'metadata': {'thread_id': '4', 'langgraph_step': 1, 'langgraph_node': 'SuperBot', 'langgraph_triggers': ('branch:to:SuperBot',), 'langgraph_path': ('__pregel_pull', 'SuperBot'), 'langgraph_checkpoint_ns': 'SuperBot:6a670ffd-e71b-cd97-a4df-f288427f7796'}, 'parent_ids': ['a50f3dae-88c6-4698-8ecf-1817c505de6d']}\n",
      "{'event': 'on_chat_model_start', 'data': {'input': {'messages': [[HumanMessage(content='Hi, my name is Ak and I like watching movies', additional_kwargs={}, response_metadata={}, id='97b34a8e-5378-4ba7-8841-50a95607f8e7')]]}}, 'name': 'ChatGroq', 'tags': ['seq:step:1'], 'run_id': '5010c706-b67b-4810-8954-415d75bddadf', 'metadata': {'thread_id': '4', 'langgraph_step': 1, 'langgraph_node': 'SuperBot', 'langgraph_triggers': ('branch:to:SuperBot',), 'langgraph_path': ('__pregel_pull', 'SuperBot'), 'langgraph_checkpoint_ns': 'SuperBot:6a670ffd-e71b-cd97-a4df-f288427f7796', 'checkpoint_ns': 'SuperBot:6a670ffd-e71b-cd97-a4df-f288427f7796', 'ls_provider': 'groq', 'ls_model_name': 'meta-llama/llama-4-scout-17b-16e-instruct', 'ls_model_type': 'chat', 'ls_temperature': 0.7}, 'parent_ids': ['a50f3dae-88c6-4698-8ecf-1817c505de6d', 'dae51764-dce0-4113-80a7-6a861bcf5c39']}\n",
      "{'event': 'on_chat_model_stream', 'data': {'chunk': AIMessageChunk(content='', additional_kwargs={}, response_metadata={}, id='run--5010c706-b67b-4810-8954-415d75bddadf')}, 'run_id': '5010c706-b67b-4810-8954-415d75bddadf', 'name': 'ChatGroq', 'tags': ['seq:step:1'], 'metadata': {'thread_id': '4', 'langgraph_step': 1, 'langgraph_node': 'SuperBot', 'langgraph_triggers': ('branch:to:SuperBot',), 'langgraph_path': ('__pregel_pull', 'SuperBot'), 'langgraph_checkpoint_ns': 'SuperBot:6a670ffd-e71b-cd97-a4df-f288427f7796', 'checkpoint_ns': 'SuperBot:6a670ffd-e71b-cd97-a4df-f288427f7796', 'ls_provider': 'groq', 'ls_model_name': 'meta-llama/llama-4-scout-17b-16e-instruct', 'ls_model_type': 'chat', 'ls_temperature': 0.7}, 'parent_ids': ['a50f3dae-88c6-4698-8ecf-1817c505de6d', 'dae51764-dce0-4113-80a7-6a861bcf5c39']}\n",
      "{'event': 'on_chat_model_stream', 'data': {'chunk': AIMessageChunk(content='Hi', additional_kwargs={}, response_metadata={}, id='run--5010c706-b67b-4810-8954-415d75bddadf')}, 'run_id': '5010c706-b67b-4810-8954-415d75bddadf', 'name': 'ChatGroq', 'tags': ['seq:step:1'], 'metadata': {'thread_id': '4', 'langgraph_step': 1, 'langgraph_node': 'SuperBot', 'langgraph_triggers': ('branch:to:SuperBot',), 'langgraph_path': ('__pregel_pull', 'SuperBot'), 'langgraph_checkpoint_ns': 'SuperBot:6a670ffd-e71b-cd97-a4df-f288427f7796', 'checkpoint_ns': 'SuperBot:6a670ffd-e71b-cd97-a4df-f288427f7796', 'ls_provider': 'groq', 'ls_model_name': 'meta-llama/llama-4-scout-17b-16e-instruct', 'ls_model_type': 'chat', 'ls_temperature': 0.7}, 'parent_ids': ['a50f3dae-88c6-4698-8ecf-1817c505de6d', 'dae51764-dce0-4113-80a7-6a861bcf5c39']}\n",
      "{'event': 'on_chat_model_stream', 'data': {'chunk': AIMessageChunk(content=' Ak', additional_kwargs={}, response_metadata={}, id='run--5010c706-b67b-4810-8954-415d75bddadf')}, 'run_id': '5010c706-b67b-4810-8954-415d75bddadf', 'name': 'ChatGroq', 'tags': ['seq:step:1'], 'metadata': {'thread_id': '4', 'langgraph_step': 1, 'langgraph_node': 'SuperBot', 'langgraph_triggers': ('branch:to:SuperBot',), 'langgraph_path': ('__pregel_pull', 'SuperBot'), 'langgraph_checkpoint_ns': 'SuperBot:6a670ffd-e71b-cd97-a4df-f288427f7796', 'checkpoint_ns': 'SuperBot:6a670ffd-e71b-cd97-a4df-f288427f7796', 'ls_provider': 'groq', 'ls_model_name': 'meta-llama/llama-4-scout-17b-16e-instruct', 'ls_model_type': 'chat', 'ls_temperature': 0.7}, 'parent_ids': ['a50f3dae-88c6-4698-8ecf-1817c505de6d', 'dae51764-dce0-4113-80a7-6a861bcf5c39']}\n",
      "{'event': 'on_chat_model_stream', 'data': {'chunk': AIMessageChunk(content='!', additional_kwargs={}, response_metadata={}, id='run--5010c706-b67b-4810-8954-415d75bddadf')}, 'run_id': '5010c706-b67b-4810-8954-415d75bddadf', 'name': 'ChatGroq', 'tags': ['seq:step:1'], 'metadata': {'thread_id': '4', 'langgraph_step': 1, 'langgraph_node': 'SuperBot', 'langgraph_triggers': ('branch:to:SuperBot',), 'langgraph_path': ('__pregel_pull', 'SuperBot'), 'langgraph_checkpoint_ns': 'SuperBot:6a670ffd-e71b-cd97-a4df-f288427f7796', 'checkpoint_ns': 'SuperBot:6a670ffd-e71b-cd97-a4df-f288427f7796', 'ls_provider': 'groq', 'ls_model_name': 'meta-llama/llama-4-scout-17b-16e-instruct', 'ls_model_type': 'chat', 'ls_temperature': 0.7}, 'parent_ids': ['a50f3dae-88c6-4698-8ecf-1817c505de6d', 'dae51764-dce0-4113-80a7-6a861bcf5c39']}\n",
      "{'event': 'on_chat_model_stream', 'data': {'chunk': AIMessageChunk(content=' Nice', additional_kwargs={}, response_metadata={}, id='run--5010c706-b67b-4810-8954-415d75bddadf')}, 'run_id': '5010c706-b67b-4810-8954-415d75bddadf', 'name': 'ChatGroq', 'tags': ['seq:step:1'], 'metadata': {'thread_id': '4', 'langgraph_step': 1, 'langgraph_node': 'SuperBot', 'langgraph_triggers': ('branch:to:SuperBot',), 'langgraph_path': ('__pregel_pull', 'SuperBot'), 'langgraph_checkpoint_ns': 'SuperBot:6a670ffd-e71b-cd97-a4df-f288427f7796', 'checkpoint_ns': 'SuperBot:6a670ffd-e71b-cd97-a4df-f288427f7796', 'ls_provider': 'groq', 'ls_model_name': 'meta-llama/llama-4-scout-17b-16e-instruct', 'ls_model_type': 'chat', 'ls_temperature': 0.7}, 'parent_ids': ['a50f3dae-88c6-4698-8ecf-1817c505de6d', 'dae51764-dce0-4113-80a7-6a861bcf5c39']}\n",
      "{'event': 'on_chat_model_stream', 'data': {'chunk': AIMessageChunk(content=' to', additional_kwargs={}, response_metadata={}, id='run--5010c706-b67b-4810-8954-415d75bddadf')}, 'run_id': '5010c706-b67b-4810-8954-415d75bddadf', 'name': 'ChatGroq', 'tags': ['seq:step:1'], 'metadata': {'thread_id': '4', 'langgraph_step': 1, 'langgraph_node': 'SuperBot', 'langgraph_triggers': ('branch:to:SuperBot',), 'langgraph_path': ('__pregel_pull', 'SuperBot'), 'langgraph_checkpoint_ns': 'SuperBot:6a670ffd-e71b-cd97-a4df-f288427f7796', 'checkpoint_ns': 'SuperBot:6a670ffd-e71b-cd97-a4df-f288427f7796', 'ls_provider': 'groq', 'ls_model_name': 'meta-llama/llama-4-scout-17b-16e-instruct', 'ls_model_type': 'chat', 'ls_temperature': 0.7}, 'parent_ids': ['a50f3dae-88c6-4698-8ecf-1817c505de6d', 'dae51764-dce0-4113-80a7-6a861bcf5c39']}\n",
      "{'event': 'on_chat_model_stream', 'data': {'chunk': AIMessageChunk(content=' meet', additional_kwargs={}, response_metadata={}, id='run--5010c706-b67b-4810-8954-415d75bddadf')}, 'run_id': '5010c706-b67b-4810-8954-415d75bddadf', 'name': 'ChatGroq', 'tags': ['seq:step:1'], 'metadata': {'thread_id': '4', 'langgraph_step': 1, 'langgraph_node': 'SuperBot', 'langgraph_triggers': ('branch:to:SuperBot',), 'langgraph_path': ('__pregel_pull', 'SuperBot'), 'langgraph_checkpoint_ns': 'SuperBot:6a670ffd-e71b-cd97-a4df-f288427f7796', 'checkpoint_ns': 'SuperBot:6a670ffd-e71b-cd97-a4df-f288427f7796', 'ls_provider': 'groq', 'ls_model_name': 'meta-llama/llama-4-scout-17b-16e-instruct', 'ls_model_type': 'chat', 'ls_temperature': 0.7}, 'parent_ids': ['a50f3dae-88c6-4698-8ecf-1817c505de6d', 'dae51764-dce0-4113-80a7-6a861bcf5c39']}\n",
      "{'event': 'on_chat_model_stream', 'data': {'chunk': AIMessageChunk(content=' you', additional_kwargs={}, response_metadata={}, id='run--5010c706-b67b-4810-8954-415d75bddadf')}, 'run_id': '5010c706-b67b-4810-8954-415d75bddadf', 'name': 'ChatGroq', 'tags': ['seq:step:1'], 'metadata': {'thread_id': '4', 'langgraph_step': 1, 'langgraph_node': 'SuperBot', 'langgraph_triggers': ('branch:to:SuperBot',), 'langgraph_path': ('__pregel_pull', 'SuperBot'), 'langgraph_checkpoint_ns': 'SuperBot:6a670ffd-e71b-cd97-a4df-f288427f7796', 'checkpoint_ns': 'SuperBot:6a670ffd-e71b-cd97-a4df-f288427f7796', 'ls_provider': 'groq', 'ls_model_name': 'meta-llama/llama-4-scout-17b-16e-instruct', 'ls_model_type': 'chat', 'ls_temperature': 0.7}, 'parent_ids': ['a50f3dae-88c6-4698-8ecf-1817c505de6d', 'dae51764-dce0-4113-80a7-6a861bcf5c39']}\n",
      "{'event': 'on_chat_model_stream', 'data': {'chunk': AIMessageChunk(content='!', additional_kwargs={}, response_metadata={}, id='run--5010c706-b67b-4810-8954-415d75bddadf')}, 'run_id': '5010c706-b67b-4810-8954-415d75bddadf', 'name': 'ChatGroq', 'tags': ['seq:step:1'], 'metadata': {'thread_id': '4', 'langgraph_step': 1, 'langgraph_node': 'SuperBot', 'langgraph_triggers': ('branch:to:SuperBot',), 'langgraph_path': ('__pregel_pull', 'SuperBot'), 'langgraph_checkpoint_ns': 'SuperBot:6a670ffd-e71b-cd97-a4df-f288427f7796', 'checkpoint_ns': 'SuperBot:6a670ffd-e71b-cd97-a4df-f288427f7796', 'ls_provider': 'groq', 'ls_model_name': 'meta-llama/llama-4-scout-17b-16e-instruct', 'ls_model_type': 'chat', 'ls_temperature': 0.7}, 'parent_ids': ['a50f3dae-88c6-4698-8ecf-1817c505de6d', 'dae51764-dce0-4113-80a7-6a861bcf5c39']}\n",
      "{'event': 'on_chat_model_stream', 'data': {'chunk': AIMessageChunk(content=' Movies', additional_kwargs={}, response_metadata={}, id='run--5010c706-b67b-4810-8954-415d75bddadf')}, 'run_id': '5010c706-b67b-4810-8954-415d75bddadf', 'name': 'ChatGroq', 'tags': ['seq:step:1'], 'metadata': {'thread_id': '4', 'langgraph_step': 1, 'langgraph_node': 'SuperBot', 'langgraph_triggers': ('branch:to:SuperBot',), 'langgraph_path': ('__pregel_pull', 'SuperBot'), 'langgraph_checkpoint_ns': 'SuperBot:6a670ffd-e71b-cd97-a4df-f288427f7796', 'checkpoint_ns': 'SuperBot:6a670ffd-e71b-cd97-a4df-f288427f7796', 'ls_provider': 'groq', 'ls_model_name': 'meta-llama/llama-4-scout-17b-16e-instruct', 'ls_model_type': 'chat', 'ls_temperature': 0.7}, 'parent_ids': ['a50f3dae-88c6-4698-8ecf-1817c505de6d', 'dae51764-dce0-4113-80a7-6a861bcf5c39']}\n",
      "{'event': 'on_chat_model_stream', 'data': {'chunk': AIMessageChunk(content=' can', additional_kwargs={}, response_metadata={}, id='run--5010c706-b67b-4810-8954-415d75bddadf')}, 'run_id': '5010c706-b67b-4810-8954-415d75bddadf', 'name': 'ChatGroq', 'tags': ['seq:step:1'], 'metadata': {'thread_id': '4', 'langgraph_step': 1, 'langgraph_node': 'SuperBot', 'langgraph_triggers': ('branch:to:SuperBot',), 'langgraph_path': ('__pregel_pull', 'SuperBot'), 'langgraph_checkpoint_ns': 'SuperBot:6a670ffd-e71b-cd97-a4df-f288427f7796', 'checkpoint_ns': 'SuperBot:6a670ffd-e71b-cd97-a4df-f288427f7796', 'ls_provider': 'groq', 'ls_model_name': 'meta-llama/llama-4-scout-17b-16e-instruct', 'ls_model_type': 'chat', 'ls_temperature': 0.7}, 'parent_ids': ['a50f3dae-88c6-4698-8ecf-1817c505de6d', 'dae51764-dce0-4113-80a7-6a861bcf5c39']}\n",
      "{'event': 'on_chat_model_stream', 'data': {'chunk': AIMessageChunk(content=' be', additional_kwargs={}, response_metadata={}, id='run--5010c706-b67b-4810-8954-415d75bddadf')}, 'run_id': '5010c706-b67b-4810-8954-415d75bddadf', 'name': 'ChatGroq', 'tags': ['seq:step:1'], 'metadata': {'thread_id': '4', 'langgraph_step': 1, 'langgraph_node': 'SuperBot', 'langgraph_triggers': ('branch:to:SuperBot',), 'langgraph_path': ('__pregel_pull', 'SuperBot'), 'langgraph_checkpoint_ns': 'SuperBot:6a670ffd-e71b-cd97-a4df-f288427f7796', 'checkpoint_ns': 'SuperBot:6a670ffd-e71b-cd97-a4df-f288427f7796', 'ls_provider': 'groq', 'ls_model_name': 'meta-llama/llama-4-scout-17b-16e-instruct', 'ls_model_type': 'chat', 'ls_temperature': 0.7}, 'parent_ids': ['a50f3dae-88c6-4698-8ecf-1817c505de6d', 'dae51764-dce0-4113-80a7-6a861bcf5c39']}\n",
      "{'event': 'on_chat_model_stream', 'data': {'chunk': AIMessageChunk(content=' a', additional_kwargs={}, response_metadata={}, id='run--5010c706-b67b-4810-8954-415d75bddadf')}, 'run_id': '5010c706-b67b-4810-8954-415d75bddadf', 'name': 'ChatGroq', 'tags': ['seq:step:1'], 'metadata': {'thread_id': '4', 'langgraph_step': 1, 'langgraph_node': 'SuperBot', 'langgraph_triggers': ('branch:to:SuperBot',), 'langgraph_path': ('__pregel_pull', 'SuperBot'), 'langgraph_checkpoint_ns': 'SuperBot:6a670ffd-e71b-cd97-a4df-f288427f7796', 'checkpoint_ns': 'SuperBot:6a670ffd-e71b-cd97-a4df-f288427f7796', 'ls_provider': 'groq', 'ls_model_name': 'meta-llama/llama-4-scout-17b-16e-instruct', 'ls_model_type': 'chat', 'ls_temperature': 0.7}, 'parent_ids': ['a50f3dae-88c6-4698-8ecf-1817c505de6d', 'dae51764-dce0-4113-80a7-6a861bcf5c39']}\n",
      "{'event': 'on_chat_model_stream', 'data': {'chunk': AIMessageChunk(content=' great', additional_kwargs={}, response_metadata={}, id='run--5010c706-b67b-4810-8954-415d75bddadf')}, 'run_id': '5010c706-b67b-4810-8954-415d75bddadf', 'name': 'ChatGroq', 'tags': ['seq:step:1'], 'metadata': {'thread_id': '4', 'langgraph_step': 1, 'langgraph_node': 'SuperBot', 'langgraph_triggers': ('branch:to:SuperBot',), 'langgraph_path': ('__pregel_pull', 'SuperBot'), 'langgraph_checkpoint_ns': 'SuperBot:6a670ffd-e71b-cd97-a4df-f288427f7796', 'checkpoint_ns': 'SuperBot:6a670ffd-e71b-cd97-a4df-f288427f7796', 'ls_provider': 'groq', 'ls_model_name': 'meta-llama/llama-4-scout-17b-16e-instruct', 'ls_model_type': 'chat', 'ls_temperature': 0.7}, 'parent_ids': ['a50f3dae-88c6-4698-8ecf-1817c505de6d', 'dae51764-dce0-4113-80a7-6a861bcf5c39']}\n",
      "{'event': 'on_chat_model_stream', 'data': {'chunk': AIMessageChunk(content=' way', additional_kwargs={}, response_metadata={}, id='run--5010c706-b67b-4810-8954-415d75bddadf')}, 'run_id': '5010c706-b67b-4810-8954-415d75bddadf', 'name': 'ChatGroq', 'tags': ['seq:step:1'], 'metadata': {'thread_id': '4', 'langgraph_step': 1, 'langgraph_node': 'SuperBot', 'langgraph_triggers': ('branch:to:SuperBot',), 'langgraph_path': ('__pregel_pull', 'SuperBot'), 'langgraph_checkpoint_ns': 'SuperBot:6a670ffd-e71b-cd97-a4df-f288427f7796', 'checkpoint_ns': 'SuperBot:6a670ffd-e71b-cd97-a4df-f288427f7796', 'ls_provider': 'groq', 'ls_model_name': 'meta-llama/llama-4-scout-17b-16e-instruct', 'ls_model_type': 'chat', 'ls_temperature': 0.7}, 'parent_ids': ['a50f3dae-88c6-4698-8ecf-1817c505de6d', 'dae51764-dce0-4113-80a7-6a861bcf5c39']}\n",
      "{'event': 'on_chat_model_stream', 'data': {'chunk': AIMessageChunk(content=' to', additional_kwargs={}, response_metadata={}, id='run--5010c706-b67b-4810-8954-415d75bddadf')}, 'run_id': '5010c706-b67b-4810-8954-415d75bddadf', 'name': 'ChatGroq', 'tags': ['seq:step:1'], 'metadata': {'thread_id': '4', 'langgraph_step': 1, 'langgraph_node': 'SuperBot', 'langgraph_triggers': ('branch:to:SuperBot',), 'langgraph_path': ('__pregel_pull', 'SuperBot'), 'langgraph_checkpoint_ns': 'SuperBot:6a670ffd-e71b-cd97-a4df-f288427f7796', 'checkpoint_ns': 'SuperBot:6a670ffd-e71b-cd97-a4df-f288427f7796', 'ls_provider': 'groq', 'ls_model_name': 'meta-llama/llama-4-scout-17b-16e-instruct', 'ls_model_type': 'chat', 'ls_temperature': 0.7}, 'parent_ids': ['a50f3dae-88c6-4698-8ecf-1817c505de6d', 'dae51764-dce0-4113-80a7-6a861bcf5c39']}\n",
      "{'event': 'on_chat_model_stream', 'data': {'chunk': AIMessageChunk(content=' relax', additional_kwargs={}, response_metadata={}, id='run--5010c706-b67b-4810-8954-415d75bddadf')}, 'run_id': '5010c706-b67b-4810-8954-415d75bddadf', 'name': 'ChatGroq', 'tags': ['seq:step:1'], 'metadata': {'thread_id': '4', 'langgraph_step': 1, 'langgraph_node': 'SuperBot', 'langgraph_triggers': ('branch:to:SuperBot',), 'langgraph_path': ('__pregel_pull', 'SuperBot'), 'langgraph_checkpoint_ns': 'SuperBot:6a670ffd-e71b-cd97-a4df-f288427f7796', 'checkpoint_ns': 'SuperBot:6a670ffd-e71b-cd97-a4df-f288427f7796', 'ls_provider': 'groq', 'ls_model_name': 'meta-llama/llama-4-scout-17b-16e-instruct', 'ls_model_type': 'chat', 'ls_temperature': 0.7}, 'parent_ids': ['a50f3dae-88c6-4698-8ecf-1817c505de6d', 'dae51764-dce0-4113-80a7-6a861bcf5c39']}\n",
      "{'event': 'on_chat_model_stream', 'data': {'chunk': AIMessageChunk(content=' and', additional_kwargs={}, response_metadata={}, id='run--5010c706-b67b-4810-8954-415d75bddadf')}, 'run_id': '5010c706-b67b-4810-8954-415d75bddadf', 'name': 'ChatGroq', 'tags': ['seq:step:1'], 'metadata': {'thread_id': '4', 'langgraph_step': 1, 'langgraph_node': 'SuperBot', 'langgraph_triggers': ('branch:to:SuperBot',), 'langgraph_path': ('__pregel_pull', 'SuperBot'), 'langgraph_checkpoint_ns': 'SuperBot:6a670ffd-e71b-cd97-a4df-f288427f7796', 'checkpoint_ns': 'SuperBot:6a670ffd-e71b-cd97-a4df-f288427f7796', 'ls_provider': 'groq', 'ls_model_name': 'meta-llama/llama-4-scout-17b-16e-instruct', 'ls_model_type': 'chat', 'ls_temperature': 0.7}, 'parent_ids': ['a50f3dae-88c6-4698-8ecf-1817c505de6d', 'dae51764-dce0-4113-80a7-6a861bcf5c39']}\n",
      "{'event': 'on_chat_model_stream', 'data': {'chunk': AIMessageChunk(content=' escape', additional_kwargs={}, response_metadata={}, id='run--5010c706-b67b-4810-8954-415d75bddadf')}, 'run_id': '5010c706-b67b-4810-8954-415d75bddadf', 'name': 'ChatGroq', 'tags': ['seq:step:1'], 'metadata': {'thread_id': '4', 'langgraph_step': 1, 'langgraph_node': 'SuperBot', 'langgraph_triggers': ('branch:to:SuperBot',), 'langgraph_path': ('__pregel_pull', 'SuperBot'), 'langgraph_checkpoint_ns': 'SuperBot:6a670ffd-e71b-cd97-a4df-f288427f7796', 'checkpoint_ns': 'SuperBot:6a670ffd-e71b-cd97-a4df-f288427f7796', 'ls_provider': 'groq', 'ls_model_name': 'meta-llama/llama-4-scout-17b-16e-instruct', 'ls_model_type': 'chat', 'ls_temperature': 0.7}, 'parent_ids': ['a50f3dae-88c6-4698-8ecf-1817c505de6d', 'dae51764-dce0-4113-80a7-6a861bcf5c39']}\n",
      "{'event': 'on_chat_model_stream', 'data': {'chunk': AIMessageChunk(content=' into', additional_kwargs={}, response_metadata={}, id='run--5010c706-b67b-4810-8954-415d75bddadf')}, 'run_id': '5010c706-b67b-4810-8954-415d75bddadf', 'name': 'ChatGroq', 'tags': ['seq:step:1'], 'metadata': {'thread_id': '4', 'langgraph_step': 1, 'langgraph_node': 'SuperBot', 'langgraph_triggers': ('branch:to:SuperBot',), 'langgraph_path': ('__pregel_pull', 'SuperBot'), 'langgraph_checkpoint_ns': 'SuperBot:6a670ffd-e71b-cd97-a4df-f288427f7796', 'checkpoint_ns': 'SuperBot:6a670ffd-e71b-cd97-a4df-f288427f7796', 'ls_provider': 'groq', 'ls_model_name': 'meta-llama/llama-4-scout-17b-16e-instruct', 'ls_model_type': 'chat', 'ls_temperature': 0.7}, 'parent_ids': ['a50f3dae-88c6-4698-8ecf-1817c505de6d', 'dae51764-dce0-4113-80a7-6a861bcf5c39']}\n",
      "{'event': 'on_chat_model_stream', 'data': {'chunk': AIMessageChunk(content=' different', additional_kwargs={}, response_metadata={}, id='run--5010c706-b67b-4810-8954-415d75bddadf')}, 'run_id': '5010c706-b67b-4810-8954-415d75bddadf', 'name': 'ChatGroq', 'tags': ['seq:step:1'], 'metadata': {'thread_id': '4', 'langgraph_step': 1, 'langgraph_node': 'SuperBot', 'langgraph_triggers': ('branch:to:SuperBot',), 'langgraph_path': ('__pregel_pull', 'SuperBot'), 'langgraph_checkpoint_ns': 'SuperBot:6a670ffd-e71b-cd97-a4df-f288427f7796', 'checkpoint_ns': 'SuperBot:6a670ffd-e71b-cd97-a4df-f288427f7796', 'ls_provider': 'groq', 'ls_model_name': 'meta-llama/llama-4-scout-17b-16e-instruct', 'ls_model_type': 'chat', 'ls_temperature': 0.7}, 'parent_ids': ['a50f3dae-88c6-4698-8ecf-1817c505de6d', 'dae51764-dce0-4113-80a7-6a861bcf5c39']}\n",
      "{'event': 'on_chat_model_stream', 'data': {'chunk': AIMessageChunk(content=' worlds', additional_kwargs={}, response_metadata={}, id='run--5010c706-b67b-4810-8954-415d75bddadf')}, 'run_id': '5010c706-b67b-4810-8954-415d75bddadf', 'name': 'ChatGroq', 'tags': ['seq:step:1'], 'metadata': {'thread_id': '4', 'langgraph_step': 1, 'langgraph_node': 'SuperBot', 'langgraph_triggers': ('branch:to:SuperBot',), 'langgraph_path': ('__pregel_pull', 'SuperBot'), 'langgraph_checkpoint_ns': 'SuperBot:6a670ffd-e71b-cd97-a4df-f288427f7796', 'checkpoint_ns': 'SuperBot:6a670ffd-e71b-cd97-a4df-f288427f7796', 'ls_provider': 'groq', 'ls_model_name': 'meta-llama/llama-4-scout-17b-16e-instruct', 'ls_model_type': 'chat', 'ls_temperature': 0.7}, 'parent_ids': ['a50f3dae-88c6-4698-8ecf-1817c505de6d', 'dae51764-dce0-4113-80a7-6a861bcf5c39']}\n",
      "{'event': 'on_chat_model_stream', 'data': {'chunk': AIMessageChunk(content='.', additional_kwargs={}, response_metadata={}, id='run--5010c706-b67b-4810-8954-415d75bddadf')}, 'run_id': '5010c706-b67b-4810-8954-415d75bddadf', 'name': 'ChatGroq', 'tags': ['seq:step:1'], 'metadata': {'thread_id': '4', 'langgraph_step': 1, 'langgraph_node': 'SuperBot', 'langgraph_triggers': ('branch:to:SuperBot',), 'langgraph_path': ('__pregel_pull', 'SuperBot'), 'langgraph_checkpoint_ns': 'SuperBot:6a670ffd-e71b-cd97-a4df-f288427f7796', 'checkpoint_ns': 'SuperBot:6a670ffd-e71b-cd97-a4df-f288427f7796', 'ls_provider': 'groq', 'ls_model_name': 'meta-llama/llama-4-scout-17b-16e-instruct', 'ls_model_type': 'chat', 'ls_temperature': 0.7}, 'parent_ids': ['a50f3dae-88c6-4698-8ecf-1817c505de6d', 'dae51764-dce0-4113-80a7-6a861bcf5c39']}\n",
      "{'event': 'on_chat_model_stream', 'data': {'chunk': AIMessageChunk(content=' What', additional_kwargs={}, response_metadata={}, id='run--5010c706-b67b-4810-8954-415d75bddadf')}, 'run_id': '5010c706-b67b-4810-8954-415d75bddadf', 'name': 'ChatGroq', 'tags': ['seq:step:1'], 'metadata': {'thread_id': '4', 'langgraph_step': 1, 'langgraph_node': 'SuperBot', 'langgraph_triggers': ('branch:to:SuperBot',), 'langgraph_path': ('__pregel_pull', 'SuperBot'), 'langgraph_checkpoint_ns': 'SuperBot:6a670ffd-e71b-cd97-a4df-f288427f7796', 'checkpoint_ns': 'SuperBot:6a670ffd-e71b-cd97-a4df-f288427f7796', 'ls_provider': 'groq', 'ls_model_name': 'meta-llama/llama-4-scout-17b-16e-instruct', 'ls_model_type': 'chat', 'ls_temperature': 0.7}, 'parent_ids': ['a50f3dae-88c6-4698-8ecf-1817c505de6d', 'dae51764-dce0-4113-80a7-6a861bcf5c39']}\n",
      "{'event': 'on_chat_model_stream', 'data': {'chunk': AIMessageChunk(content=' kind', additional_kwargs={}, response_metadata={}, id='run--5010c706-b67b-4810-8954-415d75bddadf')}, 'run_id': '5010c706-b67b-4810-8954-415d75bddadf', 'name': 'ChatGroq', 'tags': ['seq:step:1'], 'metadata': {'thread_id': '4', 'langgraph_step': 1, 'langgraph_node': 'SuperBot', 'langgraph_triggers': ('branch:to:SuperBot',), 'langgraph_path': ('__pregel_pull', 'SuperBot'), 'langgraph_checkpoint_ns': 'SuperBot:6a670ffd-e71b-cd97-a4df-f288427f7796', 'checkpoint_ns': 'SuperBot:6a670ffd-e71b-cd97-a4df-f288427f7796', 'ls_provider': 'groq', 'ls_model_name': 'meta-llama/llama-4-scout-17b-16e-instruct', 'ls_model_type': 'chat', 'ls_temperature': 0.7}, 'parent_ids': ['a50f3dae-88c6-4698-8ecf-1817c505de6d', 'dae51764-dce0-4113-80a7-6a861bcf5c39']}\n",
      "{'event': 'on_chat_model_stream', 'data': {'chunk': AIMessageChunk(content=' of', additional_kwargs={}, response_metadata={}, id='run--5010c706-b67b-4810-8954-415d75bddadf')}, 'run_id': '5010c706-b67b-4810-8954-415d75bddadf', 'name': 'ChatGroq', 'tags': ['seq:step:1'], 'metadata': {'thread_id': '4', 'langgraph_step': 1, 'langgraph_node': 'SuperBot', 'langgraph_triggers': ('branch:to:SuperBot',), 'langgraph_path': ('__pregel_pull', 'SuperBot'), 'langgraph_checkpoint_ns': 'SuperBot:6a670ffd-e71b-cd97-a4df-f288427f7796', 'checkpoint_ns': 'SuperBot:6a670ffd-e71b-cd97-a4df-f288427f7796', 'ls_provider': 'groq', 'ls_model_name': 'meta-llama/llama-4-scout-17b-16e-instruct', 'ls_model_type': 'chat', 'ls_temperature': 0.7}, 'parent_ids': ['a50f3dae-88c6-4698-8ecf-1817c505de6d', 'dae51764-dce0-4113-80a7-6a861bcf5c39']}\n",
      "{'event': 'on_chat_model_stream', 'data': {'chunk': AIMessageChunk(content=' movies', additional_kwargs={}, response_metadata={}, id='run--5010c706-b67b-4810-8954-415d75bddadf')}, 'run_id': '5010c706-b67b-4810-8954-415d75bddadf', 'name': 'ChatGroq', 'tags': ['seq:step:1'], 'metadata': {'thread_id': '4', 'langgraph_step': 1, 'langgraph_node': 'SuperBot', 'langgraph_triggers': ('branch:to:SuperBot',), 'langgraph_path': ('__pregel_pull', 'SuperBot'), 'langgraph_checkpoint_ns': 'SuperBot:6a670ffd-e71b-cd97-a4df-f288427f7796', 'checkpoint_ns': 'SuperBot:6a670ffd-e71b-cd97-a4df-f288427f7796', 'ls_provider': 'groq', 'ls_model_name': 'meta-llama/llama-4-scout-17b-16e-instruct', 'ls_model_type': 'chat', 'ls_temperature': 0.7}, 'parent_ids': ['a50f3dae-88c6-4698-8ecf-1817c505de6d', 'dae51764-dce0-4113-80a7-6a861bcf5c39']}\n",
      "{'event': 'on_chat_model_stream', 'data': {'chunk': AIMessageChunk(content=' do', additional_kwargs={}, response_metadata={}, id='run--5010c706-b67b-4810-8954-415d75bddadf')}, 'run_id': '5010c706-b67b-4810-8954-415d75bddadf', 'name': 'ChatGroq', 'tags': ['seq:step:1'], 'metadata': {'thread_id': '4', 'langgraph_step': 1, 'langgraph_node': 'SuperBot', 'langgraph_triggers': ('branch:to:SuperBot',), 'langgraph_path': ('__pregel_pull', 'SuperBot'), 'langgraph_checkpoint_ns': 'SuperBot:6a670ffd-e71b-cd97-a4df-f288427f7796', 'checkpoint_ns': 'SuperBot:6a670ffd-e71b-cd97-a4df-f288427f7796', 'ls_provider': 'groq', 'ls_model_name': 'meta-llama/llama-4-scout-17b-16e-instruct', 'ls_model_type': 'chat', 'ls_temperature': 0.7}, 'parent_ids': ['a50f3dae-88c6-4698-8ecf-1817c505de6d', 'dae51764-dce0-4113-80a7-6a861bcf5c39']}\n",
      "{'event': 'on_chat_model_stream', 'data': {'chunk': AIMessageChunk(content=' you', additional_kwargs={}, response_metadata={}, id='run--5010c706-b67b-4810-8954-415d75bddadf')}, 'run_id': '5010c706-b67b-4810-8954-415d75bddadf', 'name': 'ChatGroq', 'tags': ['seq:step:1'], 'metadata': {'thread_id': '4', 'langgraph_step': 1, 'langgraph_node': 'SuperBot', 'langgraph_triggers': ('branch:to:SuperBot',), 'langgraph_path': ('__pregel_pull', 'SuperBot'), 'langgraph_checkpoint_ns': 'SuperBot:6a670ffd-e71b-cd97-a4df-f288427f7796', 'checkpoint_ns': 'SuperBot:6a670ffd-e71b-cd97-a4df-f288427f7796', 'ls_provider': 'groq', 'ls_model_name': 'meta-llama/llama-4-scout-17b-16e-instruct', 'ls_model_type': 'chat', 'ls_temperature': 0.7}, 'parent_ids': ['a50f3dae-88c6-4698-8ecf-1817c505de6d', 'dae51764-dce0-4113-80a7-6a861bcf5c39']}\n",
      "{'event': 'on_chat_model_stream', 'data': {'chunk': AIMessageChunk(content=' enjoy', additional_kwargs={}, response_metadata={}, id='run--5010c706-b67b-4810-8954-415d75bddadf')}, 'run_id': '5010c706-b67b-4810-8954-415d75bddadf', 'name': 'ChatGroq', 'tags': ['seq:step:1'], 'metadata': {'thread_id': '4', 'langgraph_step': 1, 'langgraph_node': 'SuperBot', 'langgraph_triggers': ('branch:to:SuperBot',), 'langgraph_path': ('__pregel_pull', 'SuperBot'), 'langgraph_checkpoint_ns': 'SuperBot:6a670ffd-e71b-cd97-a4df-f288427f7796', 'checkpoint_ns': 'SuperBot:6a670ffd-e71b-cd97-a4df-f288427f7796', 'ls_provider': 'groq', 'ls_model_name': 'meta-llama/llama-4-scout-17b-16e-instruct', 'ls_model_type': 'chat', 'ls_temperature': 0.7}, 'parent_ids': ['a50f3dae-88c6-4698-8ecf-1817c505de6d', 'dae51764-dce0-4113-80a7-6a861bcf5c39']}\n",
      "{'event': 'on_chat_model_stream', 'data': {'chunk': AIMessageChunk(content=' watching', additional_kwargs={}, response_metadata={}, id='run--5010c706-b67b-4810-8954-415d75bddadf')}, 'run_id': '5010c706-b67b-4810-8954-415d75bddadf', 'name': 'ChatGroq', 'tags': ['seq:step:1'], 'metadata': {'thread_id': '4', 'langgraph_step': 1, 'langgraph_node': 'SuperBot', 'langgraph_triggers': ('branch:to:SuperBot',), 'langgraph_path': ('__pregel_pull', 'SuperBot'), 'langgraph_checkpoint_ns': 'SuperBot:6a670ffd-e71b-cd97-a4df-f288427f7796', 'checkpoint_ns': 'SuperBot:6a670ffd-e71b-cd97-a4df-f288427f7796', 'ls_provider': 'groq', 'ls_model_name': 'meta-llama/llama-4-scout-17b-16e-instruct', 'ls_model_type': 'chat', 'ls_temperature': 0.7}, 'parent_ids': ['a50f3dae-88c6-4698-8ecf-1817c505de6d', 'dae51764-dce0-4113-80a7-6a861bcf5c39']}\n",
      "{'event': 'on_chat_model_stream', 'data': {'chunk': AIMessageChunk(content='?', additional_kwargs={}, response_metadata={}, id='run--5010c706-b67b-4810-8954-415d75bddadf')}, 'run_id': '5010c706-b67b-4810-8954-415d75bddadf', 'name': 'ChatGroq', 'tags': ['seq:step:1'], 'metadata': {'thread_id': '4', 'langgraph_step': 1, 'langgraph_node': 'SuperBot', 'langgraph_triggers': ('branch:to:SuperBot',), 'langgraph_path': ('__pregel_pull', 'SuperBot'), 'langgraph_checkpoint_ns': 'SuperBot:6a670ffd-e71b-cd97-a4df-f288427f7796', 'checkpoint_ns': 'SuperBot:6a670ffd-e71b-cd97-a4df-f288427f7796', 'ls_provider': 'groq', 'ls_model_name': 'meta-llama/llama-4-scout-17b-16e-instruct', 'ls_model_type': 'chat', 'ls_temperature': 0.7}, 'parent_ids': ['a50f3dae-88c6-4698-8ecf-1817c505de6d', 'dae51764-dce0-4113-80a7-6a861bcf5c39']}\n",
      "{'event': 'on_chat_model_stream', 'data': {'chunk': AIMessageChunk(content=' Are', additional_kwargs={}, response_metadata={}, id='run--5010c706-b67b-4810-8954-415d75bddadf')}, 'run_id': '5010c706-b67b-4810-8954-415d75bddadf', 'name': 'ChatGroq', 'tags': ['seq:step:1'], 'metadata': {'thread_id': '4', 'langgraph_step': 1, 'langgraph_node': 'SuperBot', 'langgraph_triggers': ('branch:to:SuperBot',), 'langgraph_path': ('__pregel_pull', 'SuperBot'), 'langgraph_checkpoint_ns': 'SuperBot:6a670ffd-e71b-cd97-a4df-f288427f7796', 'checkpoint_ns': 'SuperBot:6a670ffd-e71b-cd97-a4df-f288427f7796', 'ls_provider': 'groq', 'ls_model_name': 'meta-llama/llama-4-scout-17b-16e-instruct', 'ls_model_type': 'chat', 'ls_temperature': 0.7}, 'parent_ids': ['a50f3dae-88c6-4698-8ecf-1817c505de6d', 'dae51764-dce0-4113-80a7-6a861bcf5c39']}\n",
      "{'event': 'on_chat_model_stream', 'data': {'chunk': AIMessageChunk(content=' you', additional_kwargs={}, response_metadata={}, id='run--5010c706-b67b-4810-8954-415d75bddadf')}, 'run_id': '5010c706-b67b-4810-8954-415d75bddadf', 'name': 'ChatGroq', 'tags': ['seq:step:1'], 'metadata': {'thread_id': '4', 'langgraph_step': 1, 'langgraph_node': 'SuperBot', 'langgraph_triggers': ('branch:to:SuperBot',), 'langgraph_path': ('__pregel_pull', 'SuperBot'), 'langgraph_checkpoint_ns': 'SuperBot:6a670ffd-e71b-cd97-a4df-f288427f7796', 'checkpoint_ns': 'SuperBot:6a670ffd-e71b-cd97-a4df-f288427f7796', 'ls_provider': 'groq', 'ls_model_name': 'meta-llama/llama-4-scout-17b-16e-instruct', 'ls_model_type': 'chat', 'ls_temperature': 0.7}, 'parent_ids': ['a50f3dae-88c6-4698-8ecf-1817c505de6d', 'dae51764-dce0-4113-80a7-6a861bcf5c39']}\n",
      "{'event': 'on_chat_model_stream', 'data': {'chunk': AIMessageChunk(content=' into', additional_kwargs={}, response_metadata={}, id='run--5010c706-b67b-4810-8954-415d75bddadf')}, 'run_id': '5010c706-b67b-4810-8954-415d75bddadf', 'name': 'ChatGroq', 'tags': ['seq:step:1'], 'metadata': {'thread_id': '4', 'langgraph_step': 1, 'langgraph_node': 'SuperBot', 'langgraph_triggers': ('branch:to:SuperBot',), 'langgraph_path': ('__pregel_pull', 'SuperBot'), 'langgraph_checkpoint_ns': 'SuperBot:6a670ffd-e71b-cd97-a4df-f288427f7796', 'checkpoint_ns': 'SuperBot:6a670ffd-e71b-cd97-a4df-f288427f7796', 'ls_provider': 'groq', 'ls_model_name': 'meta-llama/llama-4-scout-17b-16e-instruct', 'ls_model_type': 'chat', 'ls_temperature': 0.7}, 'parent_ids': ['a50f3dae-88c6-4698-8ecf-1817c505de6d', 'dae51764-dce0-4113-80a7-6a861bcf5c39']}\n",
      "{'event': 'on_chat_model_stream', 'data': {'chunk': AIMessageChunk(content=' action', additional_kwargs={}, response_metadata={}, id='run--5010c706-b67b-4810-8954-415d75bddadf')}, 'run_id': '5010c706-b67b-4810-8954-415d75bddadf', 'name': 'ChatGroq', 'tags': ['seq:step:1'], 'metadata': {'thread_id': '4', 'langgraph_step': 1, 'langgraph_node': 'SuperBot', 'langgraph_triggers': ('branch:to:SuperBot',), 'langgraph_path': ('__pregel_pull', 'SuperBot'), 'langgraph_checkpoint_ns': 'SuperBot:6a670ffd-e71b-cd97-a4df-f288427f7796', 'checkpoint_ns': 'SuperBot:6a670ffd-e71b-cd97-a4df-f288427f7796', 'ls_provider': 'groq', 'ls_model_name': 'meta-llama/llama-4-scout-17b-16e-instruct', 'ls_model_type': 'chat', 'ls_temperature': 0.7}, 'parent_ids': ['a50f3dae-88c6-4698-8ecf-1817c505de6d', 'dae51764-dce0-4113-80a7-6a861bcf5c39']}\n",
      "{'event': 'on_chat_model_stream', 'data': {'chunk': AIMessageChunk(content=',', additional_kwargs={}, response_metadata={}, id='run--5010c706-b67b-4810-8954-415d75bddadf')}, 'run_id': '5010c706-b67b-4810-8954-415d75bddadf', 'name': 'ChatGroq', 'tags': ['seq:step:1'], 'metadata': {'thread_id': '4', 'langgraph_step': 1, 'langgraph_node': 'SuperBot', 'langgraph_triggers': ('branch:to:SuperBot',), 'langgraph_path': ('__pregel_pull', 'SuperBot'), 'langgraph_checkpoint_ns': 'SuperBot:6a670ffd-e71b-cd97-a4df-f288427f7796', 'checkpoint_ns': 'SuperBot:6a670ffd-e71b-cd97-a4df-f288427f7796', 'ls_provider': 'groq', 'ls_model_name': 'meta-llama/llama-4-scout-17b-16e-instruct', 'ls_model_type': 'chat', 'ls_temperature': 0.7}, 'parent_ids': ['a50f3dae-88c6-4698-8ecf-1817c505de6d', 'dae51764-dce0-4113-80a7-6a861bcf5c39']}\n",
      "{'event': 'on_chat_model_stream', 'data': {'chunk': AIMessageChunk(content=' comedy', additional_kwargs={}, response_metadata={}, id='run--5010c706-b67b-4810-8954-415d75bddadf')}, 'run_id': '5010c706-b67b-4810-8954-415d75bddadf', 'name': 'ChatGroq', 'tags': ['seq:step:1'], 'metadata': {'thread_id': '4', 'langgraph_step': 1, 'langgraph_node': 'SuperBot', 'langgraph_triggers': ('branch:to:SuperBot',), 'langgraph_path': ('__pregel_pull', 'SuperBot'), 'langgraph_checkpoint_ns': 'SuperBot:6a670ffd-e71b-cd97-a4df-f288427f7796', 'checkpoint_ns': 'SuperBot:6a670ffd-e71b-cd97-a4df-f288427f7796', 'ls_provider': 'groq', 'ls_model_name': 'meta-llama/llama-4-scout-17b-16e-instruct', 'ls_model_type': 'chat', 'ls_temperature': 0.7}, 'parent_ids': ['a50f3dae-88c6-4698-8ecf-1817c505de6d', 'dae51764-dce0-4113-80a7-6a861bcf5c39']}\n",
      "{'event': 'on_chat_model_stream', 'data': {'chunk': AIMessageChunk(content=',', additional_kwargs={}, response_metadata={}, id='run--5010c706-b67b-4810-8954-415d75bddadf')}, 'run_id': '5010c706-b67b-4810-8954-415d75bddadf', 'name': 'ChatGroq', 'tags': ['seq:step:1'], 'metadata': {'thread_id': '4', 'langgraph_step': 1, 'langgraph_node': 'SuperBot', 'langgraph_triggers': ('branch:to:SuperBot',), 'langgraph_path': ('__pregel_pull', 'SuperBot'), 'langgraph_checkpoint_ns': 'SuperBot:6a670ffd-e71b-cd97-a4df-f288427f7796', 'checkpoint_ns': 'SuperBot:6a670ffd-e71b-cd97-a4df-f288427f7796', 'ls_provider': 'groq', 'ls_model_name': 'meta-llama/llama-4-scout-17b-16e-instruct', 'ls_model_type': 'chat', 'ls_temperature': 0.7}, 'parent_ids': ['a50f3dae-88c6-4698-8ecf-1817c505de6d', 'dae51764-dce0-4113-80a7-6a861bcf5c39']}\n",
      "{'event': 'on_chat_model_stream', 'data': {'chunk': AIMessageChunk(content=' drama', additional_kwargs={}, response_metadata={}, id='run--5010c706-b67b-4810-8954-415d75bddadf')}, 'run_id': '5010c706-b67b-4810-8954-415d75bddadf', 'name': 'ChatGroq', 'tags': ['seq:step:1'], 'metadata': {'thread_id': '4', 'langgraph_step': 1, 'langgraph_node': 'SuperBot', 'langgraph_triggers': ('branch:to:SuperBot',), 'langgraph_path': ('__pregel_pull', 'SuperBot'), 'langgraph_checkpoint_ns': 'SuperBot:6a670ffd-e71b-cd97-a4df-f288427f7796', 'checkpoint_ns': 'SuperBot:6a670ffd-e71b-cd97-a4df-f288427f7796', 'ls_provider': 'groq', 'ls_model_name': 'meta-llama/llama-4-scout-17b-16e-instruct', 'ls_model_type': 'chat', 'ls_temperature': 0.7}, 'parent_ids': ['a50f3dae-88c6-4698-8ecf-1817c505de6d', 'dae51764-dce0-4113-80a7-6a861bcf5c39']}\n",
      "{'event': 'on_chat_model_stream', 'data': {'chunk': AIMessageChunk(content=',', additional_kwargs={}, response_metadata={}, id='run--5010c706-b67b-4810-8954-415d75bddadf')}, 'run_id': '5010c706-b67b-4810-8954-415d75bddadf', 'name': 'ChatGroq', 'tags': ['seq:step:1'], 'metadata': {'thread_id': '4', 'langgraph_step': 1, 'langgraph_node': 'SuperBot', 'langgraph_triggers': ('branch:to:SuperBot',), 'langgraph_path': ('__pregel_pull', 'SuperBot'), 'langgraph_checkpoint_ns': 'SuperBot:6a670ffd-e71b-cd97-a4df-f288427f7796', 'checkpoint_ns': 'SuperBot:6a670ffd-e71b-cd97-a4df-f288427f7796', 'ls_provider': 'groq', 'ls_model_name': 'meta-llama/llama-4-scout-17b-16e-instruct', 'ls_model_type': 'chat', 'ls_temperature': 0.7}, 'parent_ids': ['a50f3dae-88c6-4698-8ecf-1817c505de6d', 'dae51764-dce0-4113-80a7-6a861bcf5c39']}\n",
      "{'event': 'on_chat_model_stream', 'data': {'chunk': AIMessageChunk(content=' or', additional_kwargs={}, response_metadata={}, id='run--5010c706-b67b-4810-8954-415d75bddadf')}, 'run_id': '5010c706-b67b-4810-8954-415d75bddadf', 'name': 'ChatGroq', 'tags': ['seq:step:1'], 'metadata': {'thread_id': '4', 'langgraph_step': 1, 'langgraph_node': 'SuperBot', 'langgraph_triggers': ('branch:to:SuperBot',), 'langgraph_path': ('__pregel_pull', 'SuperBot'), 'langgraph_checkpoint_ns': 'SuperBot:6a670ffd-e71b-cd97-a4df-f288427f7796', 'checkpoint_ns': 'SuperBot:6a670ffd-e71b-cd97-a4df-f288427f7796', 'ls_provider': 'groq', 'ls_model_name': 'meta-llama/llama-4-scout-17b-16e-instruct', 'ls_model_type': 'chat', 'ls_temperature': 0.7}, 'parent_ids': ['a50f3dae-88c6-4698-8ecf-1817c505de6d', 'dae51764-dce0-4113-80a7-6a861bcf5c39']}\n",
      "{'event': 'on_chat_model_stream', 'data': {'chunk': AIMessageChunk(content=' something', additional_kwargs={}, response_metadata={}, id='run--5010c706-b67b-4810-8954-415d75bddadf')}, 'run_id': '5010c706-b67b-4810-8954-415d75bddadf', 'name': 'ChatGroq', 'tags': ['seq:step:1'], 'metadata': {'thread_id': '4', 'langgraph_step': 1, 'langgraph_node': 'SuperBot', 'langgraph_triggers': ('branch:to:SuperBot',), 'langgraph_path': ('__pregel_pull', 'SuperBot'), 'langgraph_checkpoint_ns': 'SuperBot:6a670ffd-e71b-cd97-a4df-f288427f7796', 'checkpoint_ns': 'SuperBot:6a670ffd-e71b-cd97-a4df-f288427f7796', 'ls_provider': 'groq', 'ls_model_name': 'meta-llama/llama-4-scout-17b-16e-instruct', 'ls_model_type': 'chat', 'ls_temperature': 0.7}, 'parent_ids': ['a50f3dae-88c6-4698-8ecf-1817c505de6d', 'dae51764-dce0-4113-80a7-6a861bcf5c39']}\n",
      "{'event': 'on_chat_model_stream', 'data': {'chunk': AIMessageChunk(content=' else', additional_kwargs={}, response_metadata={}, id='run--5010c706-b67b-4810-8954-415d75bddadf')}, 'run_id': '5010c706-b67b-4810-8954-415d75bddadf', 'name': 'ChatGroq', 'tags': ['seq:step:1'], 'metadata': {'thread_id': '4', 'langgraph_step': 1, 'langgraph_node': 'SuperBot', 'langgraph_triggers': ('branch:to:SuperBot',), 'langgraph_path': ('__pregel_pull', 'SuperBot'), 'langgraph_checkpoint_ns': 'SuperBot:6a670ffd-e71b-cd97-a4df-f288427f7796', 'checkpoint_ns': 'SuperBot:6a670ffd-e71b-cd97-a4df-f288427f7796', 'ls_provider': 'groq', 'ls_model_name': 'meta-llama/llama-4-scout-17b-16e-instruct', 'ls_model_type': 'chat', 'ls_temperature': 0.7}, 'parent_ids': ['a50f3dae-88c6-4698-8ecf-1817c505de6d', 'dae51764-dce0-4113-80a7-6a861bcf5c39']}\n",
      "{'event': 'on_chat_model_stream', 'data': {'chunk': AIMessageChunk(content='?', additional_kwargs={}, response_metadata={}, id='run--5010c706-b67b-4810-8954-415d75bddadf')}, 'run_id': '5010c706-b67b-4810-8954-415d75bddadf', 'name': 'ChatGroq', 'tags': ['seq:step:1'], 'metadata': {'thread_id': '4', 'langgraph_step': 1, 'langgraph_node': 'SuperBot', 'langgraph_triggers': ('branch:to:SuperBot',), 'langgraph_path': ('__pregel_pull', 'SuperBot'), 'langgraph_checkpoint_ns': 'SuperBot:6a670ffd-e71b-cd97-a4df-f288427f7796', 'checkpoint_ns': 'SuperBot:6a670ffd-e71b-cd97-a4df-f288427f7796', 'ls_provider': 'groq', 'ls_model_name': 'meta-llama/llama-4-scout-17b-16e-instruct', 'ls_model_type': 'chat', 'ls_temperature': 0.7}, 'parent_ids': ['a50f3dae-88c6-4698-8ecf-1817c505de6d', 'dae51764-dce0-4113-80a7-6a861bcf5c39']}\n",
      "{'event': 'on_chat_model_stream', 'data': {'chunk': AIMessageChunk(content=' Do', additional_kwargs={}, response_metadata={}, id='run--5010c706-b67b-4810-8954-415d75bddadf')}, 'run_id': '5010c706-b67b-4810-8954-415d75bddadf', 'name': 'ChatGroq', 'tags': ['seq:step:1'], 'metadata': {'thread_id': '4', 'langgraph_step': 1, 'langgraph_node': 'SuperBot', 'langgraph_triggers': ('branch:to:SuperBot',), 'langgraph_path': ('__pregel_pull', 'SuperBot'), 'langgraph_checkpoint_ns': 'SuperBot:6a670ffd-e71b-cd97-a4df-f288427f7796', 'checkpoint_ns': 'SuperBot:6a670ffd-e71b-cd97-a4df-f288427f7796', 'ls_provider': 'groq', 'ls_model_name': 'meta-llama/llama-4-scout-17b-16e-instruct', 'ls_model_type': 'chat', 'ls_temperature': 0.7}, 'parent_ids': ['a50f3dae-88c6-4698-8ecf-1817c505de6d', 'dae51764-dce0-4113-80a7-6a861bcf5c39']}\n",
      "{'event': 'on_chat_model_stream', 'data': {'chunk': AIMessageChunk(content=' you', additional_kwargs={}, response_metadata={}, id='run--5010c706-b67b-4810-8954-415d75bddadf')}, 'run_id': '5010c706-b67b-4810-8954-415d75bddadf', 'name': 'ChatGroq', 'tags': ['seq:step:1'], 'metadata': {'thread_id': '4', 'langgraph_step': 1, 'langgraph_node': 'SuperBot', 'langgraph_triggers': ('branch:to:SuperBot',), 'langgraph_path': ('__pregel_pull', 'SuperBot'), 'langgraph_checkpoint_ns': 'SuperBot:6a670ffd-e71b-cd97-a4df-f288427f7796', 'checkpoint_ns': 'SuperBot:6a670ffd-e71b-cd97-a4df-f288427f7796', 'ls_provider': 'groq', 'ls_model_name': 'meta-llama/llama-4-scout-17b-16e-instruct', 'ls_model_type': 'chat', 'ls_temperature': 0.7}, 'parent_ids': ['a50f3dae-88c6-4698-8ecf-1817c505de6d', 'dae51764-dce0-4113-80a7-6a861bcf5c39']}\n",
      "{'event': 'on_chat_model_stream', 'data': {'chunk': AIMessageChunk(content=' have', additional_kwargs={}, response_metadata={}, id='run--5010c706-b67b-4810-8954-415d75bddadf')}, 'run_id': '5010c706-b67b-4810-8954-415d75bddadf', 'name': 'ChatGroq', 'tags': ['seq:step:1'], 'metadata': {'thread_id': '4', 'langgraph_step': 1, 'langgraph_node': 'SuperBot', 'langgraph_triggers': ('branch:to:SuperBot',), 'langgraph_path': ('__pregel_pull', 'SuperBot'), 'langgraph_checkpoint_ns': 'SuperBot:6a670ffd-e71b-cd97-a4df-f288427f7796', 'checkpoint_ns': 'SuperBot:6a670ffd-e71b-cd97-a4df-f288427f7796', 'ls_provider': 'groq', 'ls_model_name': 'meta-llama/llama-4-scout-17b-16e-instruct', 'ls_model_type': 'chat', 'ls_temperature': 0.7}, 'parent_ids': ['a50f3dae-88c6-4698-8ecf-1817c505de6d', 'dae51764-dce0-4113-80a7-6a861bcf5c39']}\n",
      "{'event': 'on_chat_model_stream', 'data': {'chunk': AIMessageChunk(content=' a', additional_kwargs={}, response_metadata={}, id='run--5010c706-b67b-4810-8954-415d75bddadf')}, 'run_id': '5010c706-b67b-4810-8954-415d75bddadf', 'name': 'ChatGroq', 'tags': ['seq:step:1'], 'metadata': {'thread_id': '4', 'langgraph_step': 1, 'langgraph_node': 'SuperBot', 'langgraph_triggers': ('branch:to:SuperBot',), 'langgraph_path': ('__pregel_pull', 'SuperBot'), 'langgraph_checkpoint_ns': 'SuperBot:6a670ffd-e71b-cd97-a4df-f288427f7796', 'checkpoint_ns': 'SuperBot:6a670ffd-e71b-cd97-a4df-f288427f7796', 'ls_provider': 'groq', 'ls_model_name': 'meta-llama/llama-4-scout-17b-16e-instruct', 'ls_model_type': 'chat', 'ls_temperature': 0.7}, 'parent_ids': ['a50f3dae-88c6-4698-8ecf-1817c505de6d', 'dae51764-dce0-4113-80a7-6a861bcf5c39']}\n",
      "{'event': 'on_chat_model_stream', 'data': {'chunk': AIMessageChunk(content=' favorite', additional_kwargs={}, response_metadata={}, id='run--5010c706-b67b-4810-8954-415d75bddadf')}, 'run_id': '5010c706-b67b-4810-8954-415d75bddadf', 'name': 'ChatGroq', 'tags': ['seq:step:1'], 'metadata': {'thread_id': '4', 'langgraph_step': 1, 'langgraph_node': 'SuperBot', 'langgraph_triggers': ('branch:to:SuperBot',), 'langgraph_path': ('__pregel_pull', 'SuperBot'), 'langgraph_checkpoint_ns': 'SuperBot:6a670ffd-e71b-cd97-a4df-f288427f7796', 'checkpoint_ns': 'SuperBot:6a670ffd-e71b-cd97-a4df-f288427f7796', 'ls_provider': 'groq', 'ls_model_name': 'meta-llama/llama-4-scout-17b-16e-instruct', 'ls_model_type': 'chat', 'ls_temperature': 0.7}, 'parent_ids': ['a50f3dae-88c6-4698-8ecf-1817c505de6d', 'dae51764-dce0-4113-80a7-6a861bcf5c39']}\n",
      "{'event': 'on_chat_model_stream', 'data': {'chunk': AIMessageChunk(content=' director', additional_kwargs={}, response_metadata={}, id='run--5010c706-b67b-4810-8954-415d75bddadf')}, 'run_id': '5010c706-b67b-4810-8954-415d75bddadf', 'name': 'ChatGroq', 'tags': ['seq:step:1'], 'metadata': {'thread_id': '4', 'langgraph_step': 1, 'langgraph_node': 'SuperBot', 'langgraph_triggers': ('branch:to:SuperBot',), 'langgraph_path': ('__pregel_pull', 'SuperBot'), 'langgraph_checkpoint_ns': 'SuperBot:6a670ffd-e71b-cd97-a4df-f288427f7796', 'checkpoint_ns': 'SuperBot:6a670ffd-e71b-cd97-a4df-f288427f7796', 'ls_provider': 'groq', 'ls_model_name': 'meta-llama/llama-4-scout-17b-16e-instruct', 'ls_model_type': 'chat', 'ls_temperature': 0.7}, 'parent_ids': ['a50f3dae-88c6-4698-8ecf-1817c505de6d', 'dae51764-dce0-4113-80a7-6a861bcf5c39']}\n",
      "{'event': 'on_chat_model_stream', 'data': {'chunk': AIMessageChunk(content=' or', additional_kwargs={}, response_metadata={}, id='run--5010c706-b67b-4810-8954-415d75bddadf')}, 'run_id': '5010c706-b67b-4810-8954-415d75bddadf', 'name': 'ChatGroq', 'tags': ['seq:step:1'], 'metadata': {'thread_id': '4', 'langgraph_step': 1, 'langgraph_node': 'SuperBot', 'langgraph_triggers': ('branch:to:SuperBot',), 'langgraph_path': ('__pregel_pull', 'SuperBot'), 'langgraph_checkpoint_ns': 'SuperBot:6a670ffd-e71b-cd97-a4df-f288427f7796', 'checkpoint_ns': 'SuperBot:6a670ffd-e71b-cd97-a4df-f288427f7796', 'ls_provider': 'groq', 'ls_model_name': 'meta-llama/llama-4-scout-17b-16e-instruct', 'ls_model_type': 'chat', 'ls_temperature': 0.7}, 'parent_ids': ['a50f3dae-88c6-4698-8ecf-1817c505de6d', 'dae51764-dce0-4113-80a7-6a861bcf5c39']}\n",
      "{'event': 'on_chat_model_stream', 'data': {'chunk': AIMessageChunk(content=' actor', additional_kwargs={}, response_metadata={}, id='run--5010c706-b67b-4810-8954-415d75bddadf')}, 'run_id': '5010c706-b67b-4810-8954-415d75bddadf', 'name': 'ChatGroq', 'tags': ['seq:step:1'], 'metadata': {'thread_id': '4', 'langgraph_step': 1, 'langgraph_node': 'SuperBot', 'langgraph_triggers': ('branch:to:SuperBot',), 'langgraph_path': ('__pregel_pull', 'SuperBot'), 'langgraph_checkpoint_ns': 'SuperBot:6a670ffd-e71b-cd97-a4df-f288427f7796', 'checkpoint_ns': 'SuperBot:6a670ffd-e71b-cd97-a4df-f288427f7796', 'ls_provider': 'groq', 'ls_model_name': 'meta-llama/llama-4-scout-17b-16e-instruct', 'ls_model_type': 'chat', 'ls_temperature': 0.7}, 'parent_ids': ['a50f3dae-88c6-4698-8ecf-1817c505de6d', 'dae51764-dce0-4113-80a7-6a861bcf5c39']}\n",
      "{'event': 'on_chat_model_stream', 'data': {'chunk': AIMessageChunk(content='?', additional_kwargs={}, response_metadata={}, id='run--5010c706-b67b-4810-8954-415d75bddadf')}, 'run_id': '5010c706-b67b-4810-8954-415d75bddadf', 'name': 'ChatGroq', 'tags': ['seq:step:1'], 'metadata': {'thread_id': '4', 'langgraph_step': 1, 'langgraph_node': 'SuperBot', 'langgraph_triggers': ('branch:to:SuperBot',), 'langgraph_path': ('__pregel_pull', 'SuperBot'), 'langgraph_checkpoint_ns': 'SuperBot:6a670ffd-e71b-cd97-a4df-f288427f7796', 'checkpoint_ns': 'SuperBot:6a670ffd-e71b-cd97-a4df-f288427f7796', 'ls_provider': 'groq', 'ls_model_name': 'meta-llama/llama-4-scout-17b-16e-instruct', 'ls_model_type': 'chat', 'ls_temperature': 0.7}, 'parent_ids': ['a50f3dae-88c6-4698-8ecf-1817c505de6d', 'dae51764-dce0-4113-80a7-6a861bcf5c39']}\n",
      "{'event': 'on_chat_model_stream', 'data': {'chunk': AIMessageChunk(content=\" Let's\", additional_kwargs={}, response_metadata={}, id='run--5010c706-b67b-4810-8954-415d75bddadf')}, 'run_id': '5010c706-b67b-4810-8954-415d75bddadf', 'name': 'ChatGroq', 'tags': ['seq:step:1'], 'metadata': {'thread_id': '4', 'langgraph_step': 1, 'langgraph_node': 'SuperBot', 'langgraph_triggers': ('branch:to:SuperBot',), 'langgraph_path': ('__pregel_pull', 'SuperBot'), 'langgraph_checkpoint_ns': 'SuperBot:6a670ffd-e71b-cd97-a4df-f288427f7796', 'checkpoint_ns': 'SuperBot:6a670ffd-e71b-cd97-a4df-f288427f7796', 'ls_provider': 'groq', 'ls_model_name': 'meta-llama/llama-4-scout-17b-16e-instruct', 'ls_model_type': 'chat', 'ls_temperature': 0.7}, 'parent_ids': ['a50f3dae-88c6-4698-8ecf-1817c505de6d', 'dae51764-dce0-4113-80a7-6a861bcf5c39']}\n",
      "{'event': 'on_chat_model_stream', 'data': {'chunk': AIMessageChunk(content=' chat', additional_kwargs={}, response_metadata={}, id='run--5010c706-b67b-4810-8954-415d75bddadf')}, 'run_id': '5010c706-b67b-4810-8954-415d75bddadf', 'name': 'ChatGroq', 'tags': ['seq:step:1'], 'metadata': {'thread_id': '4', 'langgraph_step': 1, 'langgraph_node': 'SuperBot', 'langgraph_triggers': ('branch:to:SuperBot',), 'langgraph_path': ('__pregel_pull', 'SuperBot'), 'langgraph_checkpoint_ns': 'SuperBot:6a670ffd-e71b-cd97-a4df-f288427f7796', 'checkpoint_ns': 'SuperBot:6a670ffd-e71b-cd97-a4df-f288427f7796', 'ls_provider': 'groq', 'ls_model_name': 'meta-llama/llama-4-scout-17b-16e-instruct', 'ls_model_type': 'chat', 'ls_temperature': 0.7}, 'parent_ids': ['a50f3dae-88c6-4698-8ecf-1817c505de6d', 'dae51764-dce0-4113-80a7-6a861bcf5c39']}\n",
      "{'event': 'on_chat_model_stream', 'data': {'chunk': AIMessageChunk(content=' about', additional_kwargs={}, response_metadata={}, id='run--5010c706-b67b-4810-8954-415d75bddadf')}, 'run_id': '5010c706-b67b-4810-8954-415d75bddadf', 'name': 'ChatGroq', 'tags': ['seq:step:1'], 'metadata': {'thread_id': '4', 'langgraph_step': 1, 'langgraph_node': 'SuperBot', 'langgraph_triggers': ('branch:to:SuperBot',), 'langgraph_path': ('__pregel_pull', 'SuperBot'), 'langgraph_checkpoint_ns': 'SuperBot:6a670ffd-e71b-cd97-a4df-f288427f7796', 'checkpoint_ns': 'SuperBot:6a670ffd-e71b-cd97-a4df-f288427f7796', 'ls_provider': 'groq', 'ls_model_name': 'meta-llama/llama-4-scout-17b-16e-instruct', 'ls_model_type': 'chat', 'ls_temperature': 0.7}, 'parent_ids': ['a50f3dae-88c6-4698-8ecf-1817c505de6d', 'dae51764-dce0-4113-80a7-6a861bcf5c39']}\n",
      "{'event': 'on_chat_model_stream', 'data': {'chunk': AIMessageChunk(content=' movies', additional_kwargs={}, response_metadata={}, id='run--5010c706-b67b-4810-8954-415d75bddadf')}, 'run_id': '5010c706-b67b-4810-8954-415d75bddadf', 'name': 'ChatGroq', 'tags': ['seq:step:1'], 'metadata': {'thread_id': '4', 'langgraph_step': 1, 'langgraph_node': 'SuperBot', 'langgraph_triggers': ('branch:to:SuperBot',), 'langgraph_path': ('__pregel_pull', 'SuperBot'), 'langgraph_checkpoint_ns': 'SuperBot:6a670ffd-e71b-cd97-a4df-f288427f7796', 'checkpoint_ns': 'SuperBot:6a670ffd-e71b-cd97-a4df-f288427f7796', 'ls_provider': 'groq', 'ls_model_name': 'meta-llama/llama-4-scout-17b-16e-instruct', 'ls_model_type': 'chat', 'ls_temperature': 0.7}, 'parent_ids': ['a50f3dae-88c6-4698-8ecf-1817c505de6d', 'dae51764-dce0-4113-80a7-6a861bcf5c39']}\n",
      "{'event': 'on_chat_model_stream', 'data': {'chunk': AIMessageChunk(content='!', additional_kwargs={}, response_metadata={}, id='run--5010c706-b67b-4810-8954-415d75bddadf')}, 'run_id': '5010c706-b67b-4810-8954-415d75bddadf', 'name': 'ChatGroq', 'tags': ['seq:step:1'], 'metadata': {'thread_id': '4', 'langgraph_step': 1, 'langgraph_node': 'SuperBot', 'langgraph_triggers': ('branch:to:SuperBot',), 'langgraph_path': ('__pregel_pull', 'SuperBot'), 'langgraph_checkpoint_ns': 'SuperBot:6a670ffd-e71b-cd97-a4df-f288427f7796', 'checkpoint_ns': 'SuperBot:6a670ffd-e71b-cd97-a4df-f288427f7796', 'ls_provider': 'groq', 'ls_model_name': 'meta-llama/llama-4-scout-17b-16e-instruct', 'ls_model_type': 'chat', 'ls_temperature': 0.7}, 'parent_ids': ['a50f3dae-88c6-4698-8ecf-1817c505de6d', 'dae51764-dce0-4113-80a7-6a861bcf5c39']}\n",
      "{'event': 'on_chat_model_stream', 'data': {'chunk': AIMessageChunk(content='', additional_kwargs={}, response_metadata={'finish_reason': 'stop', 'model_name': 'meta-llama/llama-4-scout-17b-16e-instruct', 'system_fingerprint': 'fp_79da0e0073', 'service_tier': 'on_demand'}, id='run--5010c706-b67b-4810-8954-415d75bddadf', usage_metadata={'input_tokens': 21, 'output_tokens': 59, 'total_tokens': 80})}, 'run_id': '5010c706-b67b-4810-8954-415d75bddadf', 'name': 'ChatGroq', 'tags': ['seq:step:1'], 'metadata': {'thread_id': '4', 'langgraph_step': 1, 'langgraph_node': 'SuperBot', 'langgraph_triggers': ('branch:to:SuperBot',), 'langgraph_path': ('__pregel_pull', 'SuperBot'), 'langgraph_checkpoint_ns': 'SuperBot:6a670ffd-e71b-cd97-a4df-f288427f7796', 'checkpoint_ns': 'SuperBot:6a670ffd-e71b-cd97-a4df-f288427f7796', 'ls_provider': 'groq', 'ls_model_name': 'meta-llama/llama-4-scout-17b-16e-instruct', 'ls_model_type': 'chat', 'ls_temperature': 0.7}, 'parent_ids': ['a50f3dae-88c6-4698-8ecf-1817c505de6d', 'dae51764-dce0-4113-80a7-6a861bcf5c39']}\n",
      "{'event': 'on_chat_model_end', 'data': {'output': AIMessage(content=\"Hi Ak! Nice to meet you! Movies can be a great way to relax and escape into different worlds. What kind of movies do you enjoy watching? Are you into action, comedy, drama, or something else? Do you have a favorite director or actor? Let's chat about movies!\", additional_kwargs={}, response_metadata={'finish_reason': 'stop', 'model_name': 'meta-llama/llama-4-scout-17b-16e-instruct', 'system_fingerprint': 'fp_79da0e0073', 'service_tier': 'on_demand'}, id='run--5010c706-b67b-4810-8954-415d75bddadf', usage_metadata={'input_tokens': 21, 'output_tokens': 59, 'total_tokens': 80}), 'input': {'messages': [[HumanMessage(content='Hi, my name is Ak and I like watching movies', additional_kwargs={}, response_metadata={}, id='97b34a8e-5378-4ba7-8841-50a95607f8e7')]]}}, 'run_id': '5010c706-b67b-4810-8954-415d75bddadf', 'name': 'ChatGroq', 'tags': ['seq:step:1'], 'metadata': {'thread_id': '4', 'langgraph_step': 1, 'langgraph_node': 'SuperBot', 'langgraph_triggers': ('branch:to:SuperBot',), 'langgraph_path': ('__pregel_pull', 'SuperBot'), 'langgraph_checkpoint_ns': 'SuperBot:6a670ffd-e71b-cd97-a4df-f288427f7796', 'checkpoint_ns': 'SuperBot:6a670ffd-e71b-cd97-a4df-f288427f7796', 'ls_provider': 'groq', 'ls_model_name': 'meta-llama/llama-4-scout-17b-16e-instruct', 'ls_model_type': 'chat', 'ls_temperature': 0.7}, 'parent_ids': ['a50f3dae-88c6-4698-8ecf-1817c505de6d', 'dae51764-dce0-4113-80a7-6a861bcf5c39']}\n",
      "{'event': 'on_chain_stream', 'run_id': 'dae51764-dce0-4113-80a7-6a861bcf5c39', 'name': 'SuperBot', 'tags': ['graph:step:1'], 'metadata': {'thread_id': '4', 'langgraph_step': 1, 'langgraph_node': 'SuperBot', 'langgraph_triggers': ('branch:to:SuperBot',), 'langgraph_path': ('__pregel_pull', 'SuperBot'), 'langgraph_checkpoint_ns': 'SuperBot:6a670ffd-e71b-cd97-a4df-f288427f7796'}, 'data': {'chunk': {'messages': [AIMessage(content=\"Hi Ak! Nice to meet you! Movies can be a great way to relax and escape into different worlds. What kind of movies do you enjoy watching? Are you into action, comedy, drama, or something else? Do you have a favorite director or actor? Let's chat about movies!\", additional_kwargs={}, response_metadata={'finish_reason': 'stop', 'model_name': 'meta-llama/llama-4-scout-17b-16e-instruct', 'system_fingerprint': 'fp_79da0e0073', 'service_tier': 'on_demand'}, id='run--5010c706-b67b-4810-8954-415d75bddadf', usage_metadata={'input_tokens': 21, 'output_tokens': 59, 'total_tokens': 80})]}}, 'parent_ids': ['a50f3dae-88c6-4698-8ecf-1817c505de6d']}\n",
      "{'event': 'on_chain_end', 'data': {'output': {'messages': [AIMessage(content=\"Hi Ak! Nice to meet you! Movies can be a great way to relax and escape into different worlds. What kind of movies do you enjoy watching? Are you into action, comedy, drama, or something else? Do you have a favorite director or actor? Let's chat about movies!\", additional_kwargs={}, response_metadata={'finish_reason': 'stop', 'model_name': 'meta-llama/llama-4-scout-17b-16e-instruct', 'system_fingerprint': 'fp_79da0e0073', 'service_tier': 'on_demand'}, id='run--5010c706-b67b-4810-8954-415d75bddadf', usage_metadata={'input_tokens': 21, 'output_tokens': 59, 'total_tokens': 80})]}, 'input': {'messages': [HumanMessage(content='Hi, my name is Ak and I like watching movies', additional_kwargs={}, response_metadata={}, id='97b34a8e-5378-4ba7-8841-50a95607f8e7')]}}, 'run_id': 'dae51764-dce0-4113-80a7-6a861bcf5c39', 'name': 'SuperBot', 'tags': ['graph:step:1'], 'metadata': {'thread_id': '4', 'langgraph_step': 1, 'langgraph_node': 'SuperBot', 'langgraph_triggers': ('branch:to:SuperBot',), 'langgraph_path': ('__pregel_pull', 'SuperBot'), 'langgraph_checkpoint_ns': 'SuperBot:6a670ffd-e71b-cd97-a4df-f288427f7796'}, 'parent_ids': ['a50f3dae-88c6-4698-8ecf-1817c505de6d']}\n",
      "{'event': 'on_chain_stream', 'run_id': 'a50f3dae-88c6-4698-8ecf-1817c505de6d', 'name': 'LangGraph', 'tags': [], 'metadata': {'thread_id': '4'}, 'data': {'chunk': {'SuperBot': {'messages': [AIMessage(content=\"Hi Ak! Nice to meet you! Movies can be a great way to relax and escape into different worlds. What kind of movies do you enjoy watching? Are you into action, comedy, drama, or something else? Do you have a favorite director or actor? Let's chat about movies!\", additional_kwargs={}, response_metadata={'finish_reason': 'stop', 'model_name': 'meta-llama/llama-4-scout-17b-16e-instruct', 'system_fingerprint': 'fp_79da0e0073', 'service_tier': 'on_demand'}, id='run--5010c706-b67b-4810-8954-415d75bddadf', usage_metadata={'input_tokens': 21, 'output_tokens': 59, 'total_tokens': 80})]}}}, 'parent_ids': []}\n",
      "{'event': 'on_chain_end', 'data': {'output': {'messages': [HumanMessage(content='Hi, my name is Ak and I like watching movies', additional_kwargs={}, response_metadata={}, id='97b34a8e-5378-4ba7-8841-50a95607f8e7'), AIMessage(content=\"Hi Ak! Nice to meet you! Movies can be a great way to relax and escape into different worlds. What kind of movies do you enjoy watching? Are you into action, comedy, drama, or something else? Do you have a favorite director or actor? Let's chat about movies!\", additional_kwargs={}, response_metadata={'finish_reason': 'stop', 'model_name': 'meta-llama/llama-4-scout-17b-16e-instruct', 'system_fingerprint': 'fp_79da0e0073', 'service_tier': 'on_demand'}, id='run--5010c706-b67b-4810-8954-415d75bddadf', usage_metadata={'input_tokens': 21, 'output_tokens': 59, 'total_tokens': 80})]}}, 'run_id': 'a50f3dae-88c6-4698-8ecf-1817c505de6d', 'name': 'LangGraph', 'tags': [], 'metadata': {'thread_id': '4'}, 'parent_ids': []}\n"
     ]
    }
   ],
   "source": [
    "# Async Method\n",
    "config = {\"configurable\": {\"thread_id\": \"4\"}}\n",
    "async for chunk in graph.astream_events(\n",
    "    {\"messages\": [\"Hi, my name is Ak and I like watching movies\"]},\n",
    "    config=config,\n",
    "    version=\"v2\",\n",
    "):\n",
    "    print(chunk)"
   ]
  },
  {
   "cell_type": "code",
   "execution_count": null,
   "id": "26e4fe69",
   "metadata": {},
   "outputs": [],
   "source": []
  }
 ],
 "metadata": {
  "kernelspec": {
   "display_name": "Agentic_AI",
   "language": "python",
   "name": "python3"
  },
  "language_info": {
   "codemirror_mode": {
    "name": "ipython",
    "version": 3
   },
   "file_extension": ".py",
   "mimetype": "text/x-python",
   "name": "python",
   "nbconvert_exporter": "python",
   "pygments_lexer": "ipython3",
   "version": "3.12.7"
  }
 },
 "nbformat": 4,
 "nbformat_minor": 5
}
